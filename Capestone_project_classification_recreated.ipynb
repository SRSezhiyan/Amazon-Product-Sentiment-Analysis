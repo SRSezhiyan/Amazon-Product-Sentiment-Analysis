{
 "cells": [
  {
   "cell_type": "code",
   "execution_count": 1,
   "metadata": {
    "colab": {
     "base_uri": "https://localhost:8080/"
    },
    "id": "t8QQDaqOZW0t",
    "outputId": "c0066d73-2133-4a1e-ad4b-e73dbf8757c6"
   },
   "outputs": [
    {
     "name": "stdout",
     "output_type": "stream",
     "text": [
      "Mounted at /content/drive\n"
     ]
    }
   ],
   "source": [
    "from google.colab import drive\n",
    "drive.mount('/content/drive')"
   ]
  },
  {
   "cell_type": "code",
   "execution_count": 2,
   "metadata": {
    "id": "FhTAFCriZgvX"
   },
   "outputs": [],
   "source": [
    "import pandas as pd\n",
    "df = pd.read_json(r\"/content/drive/MyDrive/Sports_and_Outdoors.json.gz\",lines=True,nrows=500000)"
   ]
  },
  {
   "cell_type": "code",
   "execution_count": 3,
   "metadata": {
    "id": "ZW1Bv_UqZ-uA"
   },
   "outputs": [],
   "source": [
    "df_1 = pd.read_json(r\"/content/drive/MyDrive/meta_Sports_and_Outdoors.json.gz\",lines=True,nrows=500000)"
   ]
  },
  {
   "cell_type": "code",
   "execution_count": 4,
   "metadata": {
    "colab": {
     "base_uri": "https://localhost:8080/",
     "height": 389
    },
    "id": "bXSjfwLbaIDo",
    "outputId": "9b5aa565-5273-4b94-b42b-ef74c9468db8"
   },
   "outputs": [
    {
     "data": {
      "text/html": [
       "\n",
       "  <div id=\"df-0d79146c-1b08-4145-8c51-46af5fa2a8f3\">\n",
       "    <div class=\"colab-df-container\">\n",
       "      <div>\n",
       "<style scoped>\n",
       "    .dataframe tbody tr th:only-of-type {\n",
       "        vertical-align: middle;\n",
       "    }\n",
       "\n",
       "    .dataframe tbody tr th {\n",
       "        vertical-align: top;\n",
       "    }\n",
       "\n",
       "    .dataframe thead th {\n",
       "        text-align: right;\n",
       "    }\n",
       "</style>\n",
       "<table border=\"1\" class=\"dataframe\">\n",
       "  <thead>\n",
       "    <tr style=\"text-align: right;\">\n",
       "      <th></th>\n",
       "      <th>overall</th>\n",
       "      <th>verified</th>\n",
       "      <th>reviewTime</th>\n",
       "      <th>reviewerID</th>\n",
       "      <th>asin</th>\n",
       "      <th>reviewerName</th>\n",
       "      <th>reviewText</th>\n",
       "      <th>summary</th>\n",
       "      <th>unixReviewTime</th>\n",
       "      <th>vote</th>\n",
       "      <th>style</th>\n",
       "      <th>image</th>\n",
       "    </tr>\n",
       "  </thead>\n",
       "  <tbody>\n",
       "    <tr>\n",
       "      <th>0</th>\n",
       "      <td>5</td>\n",
       "      <td>False</td>\n",
       "      <td>02 1, 2014</td>\n",
       "      <td>A23K73OVXJ04EG</td>\n",
       "      <td>0000031895</td>\n",
       "      <td>Lamb612000</td>\n",
       "      <td>It was as described and fit my 6 year old gran...</td>\n",
       "      <td>Neon Blue Tutu</td>\n",
       "      <td>1391212800</td>\n",
       "      <td>NaN</td>\n",
       "      <td>NaN</td>\n",
       "      <td>NaN</td>\n",
       "    </tr>\n",
       "    <tr>\n",
       "      <th>1</th>\n",
       "      <td>4</td>\n",
       "      <td>True</td>\n",
       "      <td>11 20, 2013</td>\n",
       "      <td>A2681T699HV6H1</td>\n",
       "      <td>0000031895</td>\n",
       "      <td>Courtney R</td>\n",
       "      <td>very cute and went great with my Halloween cos...</td>\n",
       "      <td>loved it!</td>\n",
       "      <td>1384905600</td>\n",
       "      <td>NaN</td>\n",
       "      <td>NaN</td>\n",
       "      <td>NaN</td>\n",
       "    </tr>\n",
       "    <tr>\n",
       "      <th>2</th>\n",
       "      <td>1</td>\n",
       "      <td>True</td>\n",
       "      <td>10 21, 2016</td>\n",
       "      <td>A374PA18DCGS5Y</td>\n",
       "      <td>0000031895</td>\n",
       "      <td>Julie Ortiz</td>\n",
       "      <td>This item is very cheaply made and not full li...</td>\n",
       "      <td>One Star</td>\n",
       "      <td>1477008000</td>\n",
       "      <td>NaN</td>\n",
       "      <td>NaN</td>\n",
       "      <td>NaN</td>\n",
       "    </tr>\n",
       "    <tr>\n",
       "      <th>3</th>\n",
       "      <td>5</td>\n",
       "      <td>True</td>\n",
       "      <td>10 18, 2016</td>\n",
       "      <td>A14PVW2N5YBWSA</td>\n",
       "      <td>0000031895</td>\n",
       "      <td>Denise M.</td>\n",
       "      <td>cute</td>\n",
       "      <td>Five Stars</td>\n",
       "      <td>1476748800</td>\n",
       "      <td>NaN</td>\n",
       "      <td>NaN</td>\n",
       "      <td>NaN</td>\n",
       "    </tr>\n",
       "    <tr>\n",
       "      <th>4</th>\n",
       "      <td>1</td>\n",
       "      <td>True</td>\n",
       "      <td>10 17, 2016</td>\n",
       "      <td>A2KWBC44QI2567</td>\n",
       "      <td>0000031895</td>\n",
       "      <td>Danielle Zollar</td>\n",
       "      <td>Not as full as the picture suggests and it sme...</td>\n",
       "      <td>Smelly !</td>\n",
       "      <td>1476662400</td>\n",
       "      <td>NaN</td>\n",
       "      <td>NaN</td>\n",
       "      <td>NaN</td>\n",
       "    </tr>\n",
       "  </tbody>\n",
       "</table>\n",
       "</div>\n",
       "      <button class=\"colab-df-convert\" onclick=\"convertToInteractive('df-0d79146c-1b08-4145-8c51-46af5fa2a8f3')\"\n",
       "              title=\"Convert this dataframe to an interactive table.\"\n",
       "              style=\"display:none;\">\n",
       "        \n",
       "  <svg xmlns=\"http://www.w3.org/2000/svg\" height=\"24px\"viewBox=\"0 0 24 24\"\n",
       "       width=\"24px\">\n",
       "    <path d=\"M0 0h24v24H0V0z\" fill=\"none\"/>\n",
       "    <path d=\"M18.56 5.44l.94 2.06.94-2.06 2.06-.94-2.06-.94-.94-2.06-.94 2.06-2.06.94zm-11 1L8.5 8.5l.94-2.06 2.06-.94-2.06-.94L8.5 2.5l-.94 2.06-2.06.94zm10 10l.94 2.06.94-2.06 2.06-.94-2.06-.94-.94-2.06-.94 2.06-2.06.94z\"/><path d=\"M17.41 7.96l-1.37-1.37c-.4-.4-.92-.59-1.43-.59-.52 0-1.04.2-1.43.59L10.3 9.45l-7.72 7.72c-.78.78-.78 2.05 0 2.83L4 21.41c.39.39.9.59 1.41.59.51 0 1.02-.2 1.41-.59l7.78-7.78 2.81-2.81c.8-.78.8-2.07 0-2.86zM5.41 20L4 18.59l7.72-7.72 1.47 1.35L5.41 20z\"/>\n",
       "  </svg>\n",
       "      </button>\n",
       "      \n",
       "  <style>\n",
       "    .colab-df-container {\n",
       "      display:flex;\n",
       "      flex-wrap:wrap;\n",
       "      gap: 12px;\n",
       "    }\n",
       "\n",
       "    .colab-df-convert {\n",
       "      background-color: #E8F0FE;\n",
       "      border: none;\n",
       "      border-radius: 50%;\n",
       "      cursor: pointer;\n",
       "      display: none;\n",
       "      fill: #1967D2;\n",
       "      height: 32px;\n",
       "      padding: 0 0 0 0;\n",
       "      width: 32px;\n",
       "    }\n",
       "\n",
       "    .colab-df-convert:hover {\n",
       "      background-color: #E2EBFA;\n",
       "      box-shadow: 0px 1px 2px rgba(60, 64, 67, 0.3), 0px 1px 3px 1px rgba(60, 64, 67, 0.15);\n",
       "      fill: #174EA6;\n",
       "    }\n",
       "\n",
       "    [theme=dark] .colab-df-convert {\n",
       "      background-color: #3B4455;\n",
       "      fill: #D2E3FC;\n",
       "    }\n",
       "\n",
       "    [theme=dark] .colab-df-convert:hover {\n",
       "      background-color: #434B5C;\n",
       "      box-shadow: 0px 1px 3px 1px rgba(0, 0, 0, 0.15);\n",
       "      filter: drop-shadow(0px 1px 2px rgba(0, 0, 0, 0.3));\n",
       "      fill: #FFFFFF;\n",
       "    }\n",
       "  </style>\n",
       "\n",
       "      <script>\n",
       "        const buttonEl =\n",
       "          document.querySelector('#df-0d79146c-1b08-4145-8c51-46af5fa2a8f3 button.colab-df-convert');\n",
       "        buttonEl.style.display =\n",
       "          google.colab.kernel.accessAllowed ? 'block' : 'none';\n",
       "\n",
       "        async function convertToInteractive(key) {\n",
       "          const element = document.querySelector('#df-0d79146c-1b08-4145-8c51-46af5fa2a8f3');\n",
       "          const dataTable =\n",
       "            await google.colab.kernel.invokeFunction('convertToInteractive',\n",
       "                                                     [key], {});\n",
       "          if (!dataTable) return;\n",
       "\n",
       "          const docLinkHtml = 'Like what you see? Visit the ' +\n",
       "            '<a target=\"_blank\" href=https://colab.research.google.com/notebooks/data_table.ipynb>data table notebook</a>'\n",
       "            + ' to learn more about interactive tables.';\n",
       "          element.innerHTML = '';\n",
       "          dataTable['output_type'] = 'display_data';\n",
       "          await google.colab.output.renderOutput(dataTable, element);\n",
       "          const docLink = document.createElement('div');\n",
       "          docLink.innerHTML = docLinkHtml;\n",
       "          element.appendChild(docLink);\n",
       "        }\n",
       "      </script>\n",
       "    </div>\n",
       "  </div>\n",
       "  "
      ],
      "text/plain": [
       "   overall  verified   reviewTime      reviewerID        asin  \\\n",
       "0        5     False   02 1, 2014  A23K73OVXJ04EG  0000031895   \n",
       "1        4      True  11 20, 2013  A2681T699HV6H1  0000031895   \n",
       "2        1      True  10 21, 2016  A374PA18DCGS5Y  0000031895   \n",
       "3        5      True  10 18, 2016  A14PVW2N5YBWSA  0000031895   \n",
       "4        1      True  10 17, 2016  A2KWBC44QI2567  0000031895   \n",
       "\n",
       "      reviewerName                                         reviewText  \\\n",
       "0       Lamb612000  It was as described and fit my 6 year old gran...   \n",
       "1       Courtney R  very cute and went great with my Halloween cos...   \n",
       "2      Julie Ortiz  This item is very cheaply made and not full li...   \n",
       "3        Denise M.                                               cute   \n",
       "4  Danielle Zollar  Not as full as the picture suggests and it sme...   \n",
       "\n",
       "          summary  unixReviewTime vote style image  \n",
       "0  Neon Blue Tutu      1391212800  NaN   NaN   NaN  \n",
       "1       loved it!      1384905600  NaN   NaN   NaN  \n",
       "2        One Star      1477008000  NaN   NaN   NaN  \n",
       "3      Five Stars      1476748800  NaN   NaN   NaN  \n",
       "4        Smelly !      1476662400  NaN   NaN   NaN  "
      ]
     },
     "execution_count": 4,
     "metadata": {},
     "output_type": "execute_result"
    }
   ],
   "source": [
    "df.head()"
   ]
  },
  {
   "cell_type": "code",
   "execution_count": 5,
   "metadata": {
    "id": "30-Kkfs5ami5"
   },
   "outputs": [],
   "source": [
    "data = df[['asin', 'reviewText','reviewerName', 'overall', 'unixReviewTime', 'reviewTime','reviewerID']]"
   ]
  },
  {
   "cell_type": "code",
   "execution_count": 6,
   "metadata": {
    "id": "_Jiov5FQayT_"
   },
   "outputs": [],
   "source": [
    "data_1 = df_1[['asin', 'title', 'category', 'price', 'brand']]"
   ]
  },
  {
   "cell_type": "code",
   "execution_count": 7,
   "metadata": {
    "colab": {
     "base_uri": "https://localhost:8080/",
     "height": 510
    },
    "id": "4uAADXKca9wN",
    "outputId": "04b4df3f-ee67-4f29-f5de-dbf3ccbc5eae"
   },
   "outputs": [
    {
     "data": {
      "text/html": [
       "\n",
       "  <div id=\"df-f305b1b0-a9ec-49fb-89ec-f6fc44e624e0\">\n",
       "    <div class=\"colab-df-container\">\n",
       "      <div>\n",
       "<style scoped>\n",
       "    .dataframe tbody tr th:only-of-type {\n",
       "        vertical-align: middle;\n",
       "    }\n",
       "\n",
       "    .dataframe tbody tr th {\n",
       "        vertical-align: top;\n",
       "    }\n",
       "\n",
       "    .dataframe thead th {\n",
       "        text-align: right;\n",
       "    }\n",
       "</style>\n",
       "<table border=\"1\" class=\"dataframe\">\n",
       "  <thead>\n",
       "    <tr style=\"text-align: right;\">\n",
       "      <th></th>\n",
       "      <th>asin</th>\n",
       "      <th>reviewText</th>\n",
       "      <th>reviewerName</th>\n",
       "      <th>overall</th>\n",
       "      <th>unixReviewTime</th>\n",
       "      <th>reviewTime</th>\n",
       "      <th>reviewerID</th>\n",
       "      <th>title</th>\n",
       "      <th>category</th>\n",
       "      <th>price</th>\n",
       "      <th>brand</th>\n",
       "    </tr>\n",
       "  </thead>\n",
       "  <tbody>\n",
       "    <tr>\n",
       "      <th>0</th>\n",
       "      <td>0000031895</td>\n",
       "      <td>It was as described and fit my 6 year old gran...</td>\n",
       "      <td>Lamb612000</td>\n",
       "      <td>5</td>\n",
       "      <td>1391212800</td>\n",
       "      <td>02 1, 2014</td>\n",
       "      <td>A23K73OVXJ04EG</td>\n",
       "      <td>Girls Ballet Tutu Neon Blue</td>\n",
       "      <td>[Sports &amp; Outdoors, Sports &amp; Fitness, Other Sp...</td>\n",
       "      <td>$6.54</td>\n",
       "      <td>Bububibi</td>\n",
       "    </tr>\n",
       "    <tr>\n",
       "      <th>1</th>\n",
       "      <td>0000031895</td>\n",
       "      <td>very cute and went great with my Halloween cos...</td>\n",
       "      <td>Courtney R</td>\n",
       "      <td>4</td>\n",
       "      <td>1384905600</td>\n",
       "      <td>11 20, 2013</td>\n",
       "      <td>A2681T699HV6H1</td>\n",
       "      <td>Girls Ballet Tutu Neon Blue</td>\n",
       "      <td>[Sports &amp; Outdoors, Sports &amp; Fitness, Other Sp...</td>\n",
       "      <td>$6.54</td>\n",
       "      <td>Bububibi</td>\n",
       "    </tr>\n",
       "    <tr>\n",
       "      <th>2</th>\n",
       "      <td>0000031895</td>\n",
       "      <td>This item is very cheaply made and not full li...</td>\n",
       "      <td>Julie Ortiz</td>\n",
       "      <td>1</td>\n",
       "      <td>1477008000</td>\n",
       "      <td>10 21, 2016</td>\n",
       "      <td>A374PA18DCGS5Y</td>\n",
       "      <td>Girls Ballet Tutu Neon Blue</td>\n",
       "      <td>[Sports &amp; Outdoors, Sports &amp; Fitness, Other Sp...</td>\n",
       "      <td>$6.54</td>\n",
       "      <td>Bububibi</td>\n",
       "    </tr>\n",
       "    <tr>\n",
       "      <th>3</th>\n",
       "      <td>0000031895</td>\n",
       "      <td>cute</td>\n",
       "      <td>Denise M.</td>\n",
       "      <td>5</td>\n",
       "      <td>1476748800</td>\n",
       "      <td>10 18, 2016</td>\n",
       "      <td>A14PVW2N5YBWSA</td>\n",
       "      <td>Girls Ballet Tutu Neon Blue</td>\n",
       "      <td>[Sports &amp; Outdoors, Sports &amp; Fitness, Other Sp...</td>\n",
       "      <td>$6.54</td>\n",
       "      <td>Bububibi</td>\n",
       "    </tr>\n",
       "    <tr>\n",
       "      <th>4</th>\n",
       "      <td>0000031895</td>\n",
       "      <td>Not as full as the picture suggests and it sme...</td>\n",
       "      <td>Danielle Zollar</td>\n",
       "      <td>1</td>\n",
       "      <td>1476662400</td>\n",
       "      <td>10 17, 2016</td>\n",
       "      <td>A2KWBC44QI2567</td>\n",
       "      <td>Girls Ballet Tutu Neon Blue</td>\n",
       "      <td>[Sports &amp; Outdoors, Sports &amp; Fitness, Other Sp...</td>\n",
       "      <td>$6.54</td>\n",
       "      <td>Bububibi</td>\n",
       "    </tr>\n",
       "  </tbody>\n",
       "</table>\n",
       "</div>\n",
       "      <button class=\"colab-df-convert\" onclick=\"convertToInteractive('df-f305b1b0-a9ec-49fb-89ec-f6fc44e624e0')\"\n",
       "              title=\"Convert this dataframe to an interactive table.\"\n",
       "              style=\"display:none;\">\n",
       "        \n",
       "  <svg xmlns=\"http://www.w3.org/2000/svg\" height=\"24px\"viewBox=\"0 0 24 24\"\n",
       "       width=\"24px\">\n",
       "    <path d=\"M0 0h24v24H0V0z\" fill=\"none\"/>\n",
       "    <path d=\"M18.56 5.44l.94 2.06.94-2.06 2.06-.94-2.06-.94-.94-2.06-.94 2.06-2.06.94zm-11 1L8.5 8.5l.94-2.06 2.06-.94-2.06-.94L8.5 2.5l-.94 2.06-2.06.94zm10 10l.94 2.06.94-2.06 2.06-.94-2.06-.94-.94-2.06-.94 2.06-2.06.94z\"/><path d=\"M17.41 7.96l-1.37-1.37c-.4-.4-.92-.59-1.43-.59-.52 0-1.04.2-1.43.59L10.3 9.45l-7.72 7.72c-.78.78-.78 2.05 0 2.83L4 21.41c.39.39.9.59 1.41.59.51 0 1.02-.2 1.41-.59l7.78-7.78 2.81-2.81c.8-.78.8-2.07 0-2.86zM5.41 20L4 18.59l7.72-7.72 1.47 1.35L5.41 20z\"/>\n",
       "  </svg>\n",
       "      </button>\n",
       "      \n",
       "  <style>\n",
       "    .colab-df-container {\n",
       "      display:flex;\n",
       "      flex-wrap:wrap;\n",
       "      gap: 12px;\n",
       "    }\n",
       "\n",
       "    .colab-df-convert {\n",
       "      background-color: #E8F0FE;\n",
       "      border: none;\n",
       "      border-radius: 50%;\n",
       "      cursor: pointer;\n",
       "      display: none;\n",
       "      fill: #1967D2;\n",
       "      height: 32px;\n",
       "      padding: 0 0 0 0;\n",
       "      width: 32px;\n",
       "    }\n",
       "\n",
       "    .colab-df-convert:hover {\n",
       "      background-color: #E2EBFA;\n",
       "      box-shadow: 0px 1px 2px rgba(60, 64, 67, 0.3), 0px 1px 3px 1px rgba(60, 64, 67, 0.15);\n",
       "      fill: #174EA6;\n",
       "    }\n",
       "\n",
       "    [theme=dark] .colab-df-convert {\n",
       "      background-color: #3B4455;\n",
       "      fill: #D2E3FC;\n",
       "    }\n",
       "\n",
       "    [theme=dark] .colab-df-convert:hover {\n",
       "      background-color: #434B5C;\n",
       "      box-shadow: 0px 1px 3px 1px rgba(0, 0, 0, 0.15);\n",
       "      filter: drop-shadow(0px 1px 2px rgba(0, 0, 0, 0.3));\n",
       "      fill: #FFFFFF;\n",
       "    }\n",
       "  </style>\n",
       "\n",
       "      <script>\n",
       "        const buttonEl =\n",
       "          document.querySelector('#df-f305b1b0-a9ec-49fb-89ec-f6fc44e624e0 button.colab-df-convert');\n",
       "        buttonEl.style.display =\n",
       "          google.colab.kernel.accessAllowed ? 'block' : 'none';\n",
       "\n",
       "        async function convertToInteractive(key) {\n",
       "          const element = document.querySelector('#df-f305b1b0-a9ec-49fb-89ec-f6fc44e624e0');\n",
       "          const dataTable =\n",
       "            await google.colab.kernel.invokeFunction('convertToInteractive',\n",
       "                                                     [key], {});\n",
       "          if (!dataTable) return;\n",
       "\n",
       "          const docLinkHtml = 'Like what you see? Visit the ' +\n",
       "            '<a target=\"_blank\" href=https://colab.research.google.com/notebooks/data_table.ipynb>data table notebook</a>'\n",
       "            + ' to learn more about interactive tables.';\n",
       "          element.innerHTML = '';\n",
       "          dataTable['output_type'] = 'display_data';\n",
       "          await google.colab.output.renderOutput(dataTable, element);\n",
       "          const docLink = document.createElement('div');\n",
       "          docLink.innerHTML = docLinkHtml;\n",
       "          element.appendChild(docLink);\n",
       "        }\n",
       "      </script>\n",
       "    </div>\n",
       "  </div>\n",
       "  "
      ],
      "text/plain": [
       "         asin                                         reviewText  \\\n",
       "0  0000031895  It was as described and fit my 6 year old gran...   \n",
       "1  0000031895  very cute and went great with my Halloween cos...   \n",
       "2  0000031895  This item is very cheaply made and not full li...   \n",
       "3  0000031895                                               cute   \n",
       "4  0000031895  Not as full as the picture suggests and it sme...   \n",
       "\n",
       "      reviewerName  overall  unixReviewTime   reviewTime      reviewerID  \\\n",
       "0       Lamb612000        5      1391212800   02 1, 2014  A23K73OVXJ04EG   \n",
       "1       Courtney R        4      1384905600  11 20, 2013  A2681T699HV6H1   \n",
       "2      Julie Ortiz        1      1477008000  10 21, 2016  A374PA18DCGS5Y   \n",
       "3        Denise M.        5      1476748800  10 18, 2016  A14PVW2N5YBWSA   \n",
       "4  Danielle Zollar        1      1476662400  10 17, 2016  A2KWBC44QI2567   \n",
       "\n",
       "                         title  \\\n",
       "0  Girls Ballet Tutu Neon Blue   \n",
       "1  Girls Ballet Tutu Neon Blue   \n",
       "2  Girls Ballet Tutu Neon Blue   \n",
       "3  Girls Ballet Tutu Neon Blue   \n",
       "4  Girls Ballet Tutu Neon Blue   \n",
       "\n",
       "                                            category  price     brand  \n",
       "0  [Sports & Outdoors, Sports & Fitness, Other Sp...  $6.54  Bububibi  \n",
       "1  [Sports & Outdoors, Sports & Fitness, Other Sp...  $6.54  Bububibi  \n",
       "2  [Sports & Outdoors, Sports & Fitness, Other Sp...  $6.54  Bububibi  \n",
       "3  [Sports & Outdoors, Sports & Fitness, Other Sp...  $6.54  Bububibi  \n",
       "4  [Sports & Outdoors, Sports & Fitness, Other Sp...  $6.54  Bububibi  "
      ]
     },
     "execution_count": 7,
     "metadata": {},
     "output_type": "execute_result"
    }
   ],
   "source": [
    "merged_data = pd.merge(data, data_1, on = 'asin')\n",
    "merged_data.head()"
   ]
  },
  {
   "cell_type": "code",
   "execution_count": 8,
   "metadata": {
    "colab": {
     "base_uri": "https://localhost:8080/"
    },
    "id": "Tpa7HwchbFNn",
    "outputId": "e38166c2-fc46-40c4-e206-5dc8541d716b"
   },
   "outputs": [
    {
     "data": {
      "text/plain": [
       "(633564, 11)"
      ]
     },
     "execution_count": 8,
     "metadata": {},
     "output_type": "execute_result"
    }
   ],
   "source": [
    "merged_data.shape"
   ]
  },
  {
   "cell_type": "code",
   "execution_count": 10,
   "metadata": {
    "colab": {
     "base_uri": "https://localhost:8080/"
    },
    "id": "1syyUflobN2f",
    "outputId": "b18a7b97-3b64-49e2-a589-51541be10a96"
   },
   "outputs": [
    {
     "name": "stdout",
     "output_type": "stream",
     "text": [
      "<class 'pandas.core.frame.DataFrame'>\n",
      "Int64Index: 633564 entries, 0 to 633563\n",
      "Data columns (total 11 columns):\n",
      " #   Column          Non-Null Count   Dtype \n",
      "---  ------          --------------   ----- \n",
      " 0   asin            633564 non-null  object\n",
      " 1   reviewText      633300 non-null  object\n",
      " 2   reviewerName    633533 non-null  object\n",
      " 3   overall         633564 non-null  int64 \n",
      " 4   unixReviewTime  633564 non-null  int64 \n",
      " 5   reviewTime      633564 non-null  object\n",
      " 6   reviewerID      633564 non-null  object\n",
      " 7   title           633564 non-null  object\n",
      " 8   category        633564 non-null  object\n",
      " 9   price           633564 non-null  object\n",
      " 10  brand           633564 non-null  object\n",
      "dtypes: int64(2), object(9)\n",
      "memory usage: 58.0+ MB\n"
     ]
    }
   ],
   "source": [
    "merged_data.info()"
   ]
  },
  {
   "cell_type": "code",
   "execution_count": 11,
   "metadata": {
    "colab": {
     "base_uri": "https://localhost:8080/",
     "height": 112
    },
    "id": "at0J9uAybQs6",
    "outputId": "265817a3-4168-47be-b9d1-a04e1f3628e6"
   },
   "outputs": [
    {
     "data": {
      "text/html": [
       "\n",
       "  <div id=\"df-17119205-444f-4c1a-b42a-44e17803cb30\">\n",
       "    <div class=\"colab-df-container\">\n",
       "      <div>\n",
       "<style scoped>\n",
       "    .dataframe tbody tr th:only-of-type {\n",
       "        vertical-align: middle;\n",
       "    }\n",
       "\n",
       "    .dataframe tbody tr th {\n",
       "        vertical-align: top;\n",
       "    }\n",
       "\n",
       "    .dataframe thead th {\n",
       "        text-align: right;\n",
       "    }\n",
       "</style>\n",
       "<table border=\"1\" class=\"dataframe\">\n",
       "  <thead>\n",
       "    <tr style=\"text-align: right;\">\n",
       "      <th></th>\n",
       "      <th>count</th>\n",
       "      <th>mean</th>\n",
       "      <th>std</th>\n",
       "      <th>min</th>\n",
       "      <th>25%</th>\n",
       "      <th>50%</th>\n",
       "      <th>75%</th>\n",
       "      <th>max</th>\n",
       "    </tr>\n",
       "  </thead>\n",
       "  <tbody>\n",
       "    <tr>\n",
       "      <th>overall</th>\n",
       "      <td>633564.0</td>\n",
       "      <td>4.288976e+00</td>\n",
       "      <td>1.189270e+00</td>\n",
       "      <td>1.0</td>\n",
       "      <td>4.000000e+00</td>\n",
       "      <td>5.000000e+00</td>\n",
       "      <td>5.000000e+00</td>\n",
       "      <td>5.000000e+00</td>\n",
       "    </tr>\n",
       "    <tr>\n",
       "      <th>unixReviewTime</th>\n",
       "      <td>633564.0</td>\n",
       "      <td>1.411654e+09</td>\n",
       "      <td>7.821238e+07</td>\n",
       "      <td>943488000.0</td>\n",
       "      <td>1.378080e+09</td>\n",
       "      <td>1.425341e+09</td>\n",
       "      <td>1.466554e+09</td>\n",
       "      <td>1.526342e+09</td>\n",
       "    </tr>\n",
       "  </tbody>\n",
       "</table>\n",
       "</div>\n",
       "      <button class=\"colab-df-convert\" onclick=\"convertToInteractive('df-17119205-444f-4c1a-b42a-44e17803cb30')\"\n",
       "              title=\"Convert this dataframe to an interactive table.\"\n",
       "              style=\"display:none;\">\n",
       "        \n",
       "  <svg xmlns=\"http://www.w3.org/2000/svg\" height=\"24px\"viewBox=\"0 0 24 24\"\n",
       "       width=\"24px\">\n",
       "    <path d=\"M0 0h24v24H0V0z\" fill=\"none\"/>\n",
       "    <path d=\"M18.56 5.44l.94 2.06.94-2.06 2.06-.94-2.06-.94-.94-2.06-.94 2.06-2.06.94zm-11 1L8.5 8.5l.94-2.06 2.06-.94-2.06-.94L8.5 2.5l-.94 2.06-2.06.94zm10 10l.94 2.06.94-2.06 2.06-.94-2.06-.94-.94-2.06-.94 2.06-2.06.94z\"/><path d=\"M17.41 7.96l-1.37-1.37c-.4-.4-.92-.59-1.43-.59-.52 0-1.04.2-1.43.59L10.3 9.45l-7.72 7.72c-.78.78-.78 2.05 0 2.83L4 21.41c.39.39.9.59 1.41.59.51 0 1.02-.2 1.41-.59l7.78-7.78 2.81-2.81c.8-.78.8-2.07 0-2.86zM5.41 20L4 18.59l7.72-7.72 1.47 1.35L5.41 20z\"/>\n",
       "  </svg>\n",
       "      </button>\n",
       "      \n",
       "  <style>\n",
       "    .colab-df-container {\n",
       "      display:flex;\n",
       "      flex-wrap:wrap;\n",
       "      gap: 12px;\n",
       "    }\n",
       "\n",
       "    .colab-df-convert {\n",
       "      background-color: #E8F0FE;\n",
       "      border: none;\n",
       "      border-radius: 50%;\n",
       "      cursor: pointer;\n",
       "      display: none;\n",
       "      fill: #1967D2;\n",
       "      height: 32px;\n",
       "      padding: 0 0 0 0;\n",
       "      width: 32px;\n",
       "    }\n",
       "\n",
       "    .colab-df-convert:hover {\n",
       "      background-color: #E2EBFA;\n",
       "      box-shadow: 0px 1px 2px rgba(60, 64, 67, 0.3), 0px 1px 3px 1px rgba(60, 64, 67, 0.15);\n",
       "      fill: #174EA6;\n",
       "    }\n",
       "\n",
       "    [theme=dark] .colab-df-convert {\n",
       "      background-color: #3B4455;\n",
       "      fill: #D2E3FC;\n",
       "    }\n",
       "\n",
       "    [theme=dark] .colab-df-convert:hover {\n",
       "      background-color: #434B5C;\n",
       "      box-shadow: 0px 1px 3px 1px rgba(0, 0, 0, 0.15);\n",
       "      filter: drop-shadow(0px 1px 2px rgba(0, 0, 0, 0.3));\n",
       "      fill: #FFFFFF;\n",
       "    }\n",
       "  </style>\n",
       "\n",
       "      <script>\n",
       "        const buttonEl =\n",
       "          document.querySelector('#df-17119205-444f-4c1a-b42a-44e17803cb30 button.colab-df-convert');\n",
       "        buttonEl.style.display =\n",
       "          google.colab.kernel.accessAllowed ? 'block' : 'none';\n",
       "\n",
       "        async function convertToInteractive(key) {\n",
       "          const element = document.querySelector('#df-17119205-444f-4c1a-b42a-44e17803cb30');\n",
       "          const dataTable =\n",
       "            await google.colab.kernel.invokeFunction('convertToInteractive',\n",
       "                                                     [key], {});\n",
       "          if (!dataTable) return;\n",
       "\n",
       "          const docLinkHtml = 'Like what you see? Visit the ' +\n",
       "            '<a target=\"_blank\" href=https://colab.research.google.com/notebooks/data_table.ipynb>data table notebook</a>'\n",
       "            + ' to learn more about interactive tables.';\n",
       "          element.innerHTML = '';\n",
       "          dataTable['output_type'] = 'display_data';\n",
       "          await google.colab.output.renderOutput(dataTable, element);\n",
       "          const docLink = document.createElement('div');\n",
       "          docLink.innerHTML = docLinkHtml;\n",
       "          element.appendChild(docLink);\n",
       "        }\n",
       "      </script>\n",
       "    </div>\n",
       "  </div>\n",
       "  "
      ],
      "text/plain": [
       "                   count          mean           std          min  \\\n",
       "overall         633564.0  4.288976e+00  1.189270e+00          1.0   \n",
       "unixReviewTime  633564.0  1.411654e+09  7.821238e+07  943488000.0   \n",
       "\n",
       "                         25%           50%           75%           max  \n",
       "overall         4.000000e+00  5.000000e+00  5.000000e+00  5.000000e+00  \n",
       "unixReviewTime  1.378080e+09  1.425341e+09  1.466554e+09  1.526342e+09  "
      ]
     },
     "execution_count": 11,
     "metadata": {},
     "output_type": "execute_result"
    }
   ],
   "source": [
    "merged_data.describe().T"
   ]
  },
  {
   "cell_type": "code",
   "execution_count": 12,
   "metadata": {
    "id": "0a9PCRzIbXqc"
   },
   "outputs": [],
   "source": [
    "merged_data.drop_duplicates([\"reviewText\",\"asin\",\"reviewerName\"], keep = \"last\", inplace = True)"
   ]
  },
  {
   "cell_type": "code",
   "execution_count": 13,
   "metadata": {
    "colab": {
     "base_uri": "https://localhost:8080/"
    },
    "id": "RmD0GXSDbiIG",
    "outputId": "a2284a0a-7621-4cd7-f917-9035da987912"
   },
   "outputs": [
    {
     "data": {
      "text/plain": [
       "asin                0\n",
       "reviewText        202\n",
       "reviewerName       23\n",
       "overall             0\n",
       "unixReviewTime      0\n",
       "reviewTime          0\n",
       "reviewerID          0\n",
       "title               0\n",
       "category            0\n",
       "price               0\n",
       "brand               0\n",
       "dtype: int64"
      ]
     },
     "execution_count": 13,
     "metadata": {},
     "output_type": "execute_result"
    }
   ],
   "source": [
    "merged_data.isnull().sum()"
   ]
  },
  {
   "cell_type": "code",
   "execution_count": 14,
   "metadata": {
    "id": "I5K54xOobl4r"
   },
   "outputs": [],
   "source": [
    "merged_data.dropna(inplace=True)"
   ]
  },
  {
   "cell_type": "code",
   "execution_count": 15,
   "metadata": {
    "id": "rUbq2yV_bwP_"
   },
   "outputs": [],
   "source": [
    "import re\n",
    "def cleaning(text):\n",
    "    text = re.sub(\"[^0-9A-Za-z\\-]+\", \" \", text) \n",
    "    text = re.sub(\"(?<!\\w)\\d+\", \"\", text)\n",
    "    text = re.sub(\"-(?!\\w)\", \"\", text)\n",
    "    text = \" \".join(text.split())\n",
    "    text = text.lower()\n",
    "    return text"
   ]
  },
  {
   "cell_type": "code",
   "execution_count": 16,
   "metadata": {
    "id": "RWULXZiLb5Bg"
   },
   "outputs": [],
   "source": [
    "merged_data[\"reviewText\"] = merged_data[\"reviewText\"].apply(cleaning)"
   ]
  },
  {
   "cell_type": "code",
   "execution_count": 17,
   "metadata": {
    "id": "zyeGUwX5b9hL"
   },
   "outputs": [],
   "source": [
    "merged_data[\"reviewTime\"] = pd.to_datetime(merged_data[\"reviewTime\"])"
   ]
  },
  {
   "cell_type": "code",
   "execution_count": 19,
   "metadata": {
    "id": "ayshgi9YcNdR"
   },
   "outputs": [],
   "source": [
    "import numpy as np\n",
    "def convert_price(val):\n",
    "    try:\n",
    "        return float(val.replace('$', ''))\n",
    "    except:\n",
    "        return np.nan\n",
    "\n",
    "merged_data['price'] = merged_data['price'].apply(convert_price)\n",
    "median_price = merged_data['price'].median()\n",
    "merged_data['price'] = merged_data['price'].fillna(median_price)"
   ]
  },
  {
   "cell_type": "code",
   "execution_count": 25,
   "metadata": {
    "id": "c7G38dpVclhP"
   },
   "outputs": [],
   "source": [
    "merged_data['brand']= merged_data['brand'].fillna('unknown')\n",
    "merged_data.dropna(inplace=True)"
   ]
  },
  {
   "cell_type": "code",
   "execution_count": 23,
   "metadata": {
    "id": "XdbSEhBZdKQ6"
   },
   "outputs": [],
   "source": [
    "merged_data.replace(\"\",np.nan,inplace=True)"
   ]
  },
  {
   "cell_type": "code",
   "execution_count": 26,
   "metadata": {
    "colab": {
     "base_uri": "https://localhost:8080/",
     "height": 510
    },
    "id": "NKzkfT10cvMi",
    "outputId": "cd20323f-96b8-4174-f59b-3510cf6772ad"
   },
   "outputs": [
    {
     "data": {
      "text/html": [
       "\n",
       "  <div id=\"df-83de3e26-d122-432f-ba06-063cfb9271be\">\n",
       "    <div class=\"colab-df-container\">\n",
       "      <div>\n",
       "<style scoped>\n",
       "    .dataframe tbody tr th:only-of-type {\n",
       "        vertical-align: middle;\n",
       "    }\n",
       "\n",
       "    .dataframe tbody tr th {\n",
       "        vertical-align: top;\n",
       "    }\n",
       "\n",
       "    .dataframe thead th {\n",
       "        text-align: right;\n",
       "    }\n",
       "</style>\n",
       "<table border=\"1\" class=\"dataframe\">\n",
       "  <thead>\n",
       "    <tr style=\"text-align: right;\">\n",
       "      <th></th>\n",
       "      <th>asin</th>\n",
       "      <th>reviewText</th>\n",
       "      <th>reviewerName</th>\n",
       "      <th>overall</th>\n",
       "      <th>unixReviewTime</th>\n",
       "      <th>reviewTime</th>\n",
       "      <th>reviewerID</th>\n",
       "      <th>title</th>\n",
       "      <th>category</th>\n",
       "      <th>price</th>\n",
       "      <th>brand</th>\n",
       "    </tr>\n",
       "  </thead>\n",
       "  <tbody>\n",
       "    <tr>\n",
       "      <th>0</th>\n",
       "      <td>0000031895</td>\n",
       "      <td>it was as described and fit my year old grand ...</td>\n",
       "      <td>Lamb612000</td>\n",
       "      <td>5</td>\n",
       "      <td>1391212800</td>\n",
       "      <td>2014-02-01</td>\n",
       "      <td>A23K73OVXJ04EG</td>\n",
       "      <td>Girls Ballet Tutu Neon Blue</td>\n",
       "      <td>[Sports &amp; Outdoors, Sports &amp; Fitness, Other Sp...</td>\n",
       "      <td>6.54</td>\n",
       "      <td>Bububibi</td>\n",
       "    </tr>\n",
       "    <tr>\n",
       "      <th>1</th>\n",
       "      <td>0000031895</td>\n",
       "      <td>very cute and went great with my halloween cos...</td>\n",
       "      <td>Courtney R</td>\n",
       "      <td>4</td>\n",
       "      <td>1384905600</td>\n",
       "      <td>2013-11-20</td>\n",
       "      <td>A2681T699HV6H1</td>\n",
       "      <td>Girls Ballet Tutu Neon Blue</td>\n",
       "      <td>[Sports &amp; Outdoors, Sports &amp; Fitness, Other Sp...</td>\n",
       "      <td>6.54</td>\n",
       "      <td>Bububibi</td>\n",
       "    </tr>\n",
       "    <tr>\n",
       "      <th>2</th>\n",
       "      <td>0000031895</td>\n",
       "      <td>this item is very cheaply made and not full li...</td>\n",
       "      <td>Julie Ortiz</td>\n",
       "      <td>1</td>\n",
       "      <td>1477008000</td>\n",
       "      <td>2016-10-21</td>\n",
       "      <td>A374PA18DCGS5Y</td>\n",
       "      <td>Girls Ballet Tutu Neon Blue</td>\n",
       "      <td>[Sports &amp; Outdoors, Sports &amp; Fitness, Other Sp...</td>\n",
       "      <td>6.54</td>\n",
       "      <td>Bububibi</td>\n",
       "    </tr>\n",
       "    <tr>\n",
       "      <th>3</th>\n",
       "      <td>0000031895</td>\n",
       "      <td>cute</td>\n",
       "      <td>Denise M.</td>\n",
       "      <td>5</td>\n",
       "      <td>1476748800</td>\n",
       "      <td>2016-10-18</td>\n",
       "      <td>A14PVW2N5YBWSA</td>\n",
       "      <td>Girls Ballet Tutu Neon Blue</td>\n",
       "      <td>[Sports &amp; Outdoors, Sports &amp; Fitness, Other Sp...</td>\n",
       "      <td>6.54</td>\n",
       "      <td>Bububibi</td>\n",
       "    </tr>\n",
       "    <tr>\n",
       "      <th>4</th>\n",
       "      <td>0000031895</td>\n",
       "      <td>not as full as the picture suggests and it sme...</td>\n",
       "      <td>Danielle Zollar</td>\n",
       "      <td>1</td>\n",
       "      <td>1476662400</td>\n",
       "      <td>2016-10-17</td>\n",
       "      <td>A2KWBC44QI2567</td>\n",
       "      <td>Girls Ballet Tutu Neon Blue</td>\n",
       "      <td>[Sports &amp; Outdoors, Sports &amp; Fitness, Other Sp...</td>\n",
       "      <td>6.54</td>\n",
       "      <td>Bububibi</td>\n",
       "    </tr>\n",
       "  </tbody>\n",
       "</table>\n",
       "</div>\n",
       "      <button class=\"colab-df-convert\" onclick=\"convertToInteractive('df-83de3e26-d122-432f-ba06-063cfb9271be')\"\n",
       "              title=\"Convert this dataframe to an interactive table.\"\n",
       "              style=\"display:none;\">\n",
       "        \n",
       "  <svg xmlns=\"http://www.w3.org/2000/svg\" height=\"24px\"viewBox=\"0 0 24 24\"\n",
       "       width=\"24px\">\n",
       "    <path d=\"M0 0h24v24H0V0z\" fill=\"none\"/>\n",
       "    <path d=\"M18.56 5.44l.94 2.06.94-2.06 2.06-.94-2.06-.94-.94-2.06-.94 2.06-2.06.94zm-11 1L8.5 8.5l.94-2.06 2.06-.94-2.06-.94L8.5 2.5l-.94 2.06-2.06.94zm10 10l.94 2.06.94-2.06 2.06-.94-2.06-.94-.94-2.06-.94 2.06-2.06.94z\"/><path d=\"M17.41 7.96l-1.37-1.37c-.4-.4-.92-.59-1.43-.59-.52 0-1.04.2-1.43.59L10.3 9.45l-7.72 7.72c-.78.78-.78 2.05 0 2.83L4 21.41c.39.39.9.59 1.41.59.51 0 1.02-.2 1.41-.59l7.78-7.78 2.81-2.81c.8-.78.8-2.07 0-2.86zM5.41 20L4 18.59l7.72-7.72 1.47 1.35L5.41 20z\"/>\n",
       "  </svg>\n",
       "      </button>\n",
       "      \n",
       "  <style>\n",
       "    .colab-df-container {\n",
       "      display:flex;\n",
       "      flex-wrap:wrap;\n",
       "      gap: 12px;\n",
       "    }\n",
       "\n",
       "    .colab-df-convert {\n",
       "      background-color: #E8F0FE;\n",
       "      border: none;\n",
       "      border-radius: 50%;\n",
       "      cursor: pointer;\n",
       "      display: none;\n",
       "      fill: #1967D2;\n",
       "      height: 32px;\n",
       "      padding: 0 0 0 0;\n",
       "      width: 32px;\n",
       "    }\n",
       "\n",
       "    .colab-df-convert:hover {\n",
       "      background-color: #E2EBFA;\n",
       "      box-shadow: 0px 1px 2px rgba(60, 64, 67, 0.3), 0px 1px 3px 1px rgba(60, 64, 67, 0.15);\n",
       "      fill: #174EA6;\n",
       "    }\n",
       "\n",
       "    [theme=dark] .colab-df-convert {\n",
       "      background-color: #3B4455;\n",
       "      fill: #D2E3FC;\n",
       "    }\n",
       "\n",
       "    [theme=dark] .colab-df-convert:hover {\n",
       "      background-color: #434B5C;\n",
       "      box-shadow: 0px 1px 3px 1px rgba(0, 0, 0, 0.15);\n",
       "      filter: drop-shadow(0px 1px 2px rgba(0, 0, 0, 0.3));\n",
       "      fill: #FFFFFF;\n",
       "    }\n",
       "  </style>\n",
       "\n",
       "      <script>\n",
       "        const buttonEl =\n",
       "          document.querySelector('#df-83de3e26-d122-432f-ba06-063cfb9271be button.colab-df-convert');\n",
       "        buttonEl.style.display =\n",
       "          google.colab.kernel.accessAllowed ? 'block' : 'none';\n",
       "\n",
       "        async function convertToInteractive(key) {\n",
       "          const element = document.querySelector('#df-83de3e26-d122-432f-ba06-063cfb9271be');\n",
       "          const dataTable =\n",
       "            await google.colab.kernel.invokeFunction('convertToInteractive',\n",
       "                                                     [key], {});\n",
       "          if (!dataTable) return;\n",
       "\n",
       "          const docLinkHtml = 'Like what you see? Visit the ' +\n",
       "            '<a target=\"_blank\" href=https://colab.research.google.com/notebooks/data_table.ipynb>data table notebook</a>'\n",
       "            + ' to learn more about interactive tables.';\n",
       "          element.innerHTML = '';\n",
       "          dataTable['output_type'] = 'display_data';\n",
       "          await google.colab.output.renderOutput(dataTable, element);\n",
       "          const docLink = document.createElement('div');\n",
       "          docLink.innerHTML = docLinkHtml;\n",
       "          element.appendChild(docLink);\n",
       "        }\n",
       "      </script>\n",
       "    </div>\n",
       "  </div>\n",
       "  "
      ],
      "text/plain": [
       "         asin                                         reviewText  \\\n",
       "0  0000031895  it was as described and fit my year old grand ...   \n",
       "1  0000031895  very cute and went great with my halloween cos...   \n",
       "2  0000031895  this item is very cheaply made and not full li...   \n",
       "3  0000031895                                               cute   \n",
       "4  0000031895  not as full as the picture suggests and it sme...   \n",
       "\n",
       "      reviewerName  overall  unixReviewTime reviewTime      reviewerID  \\\n",
       "0       Lamb612000        5      1391212800 2014-02-01  A23K73OVXJ04EG   \n",
       "1       Courtney R        4      1384905600 2013-11-20  A2681T699HV6H1   \n",
       "2      Julie Ortiz        1      1477008000 2016-10-21  A374PA18DCGS5Y   \n",
       "3        Denise M.        5      1476748800 2016-10-18  A14PVW2N5YBWSA   \n",
       "4  Danielle Zollar        1      1476662400 2016-10-17  A2KWBC44QI2567   \n",
       "\n",
       "                         title  \\\n",
       "0  Girls Ballet Tutu Neon Blue   \n",
       "1  Girls Ballet Tutu Neon Blue   \n",
       "2  Girls Ballet Tutu Neon Blue   \n",
       "3  Girls Ballet Tutu Neon Blue   \n",
       "4  Girls Ballet Tutu Neon Blue   \n",
       "\n",
       "                                            category  price     brand  \n",
       "0  [Sports & Outdoors, Sports & Fitness, Other Sp...   6.54  Bububibi  \n",
       "1  [Sports & Outdoors, Sports & Fitness, Other Sp...   6.54  Bububibi  \n",
       "2  [Sports & Outdoors, Sports & Fitness, Other Sp...   6.54  Bububibi  \n",
       "3  [Sports & Outdoors, Sports & Fitness, Other Sp...   6.54  Bububibi  \n",
       "4  [Sports & Outdoors, Sports & Fitness, Other Sp...   6.54  Bububibi  "
      ]
     },
     "execution_count": 26,
     "metadata": {},
     "output_type": "execute_result"
    }
   ],
   "source": [
    "merged_data.head()"
   ]
  },
  {
   "cell_type": "code",
   "execution_count": 27,
   "metadata": {
    "colab": {
     "base_uri": "https://localhost:8080/"
    },
    "id": "o4HsVVOQc8Hr",
    "outputId": "ac5b717b-7661-4064-9103-a77d753f09b3"
   },
   "outputs": [
    {
     "data": {
      "text/plain": [
       "asin              0\n",
       "reviewText        0\n",
       "reviewerName      0\n",
       "overall           0\n",
       "unixReviewTime    0\n",
       "reviewTime        0\n",
       "reviewerID        0\n",
       "title             0\n",
       "category          0\n",
       "price             0\n",
       "brand             0\n",
       "dtype: int64"
      ]
     },
     "execution_count": 27,
     "metadata": {},
     "output_type": "execute_result"
    }
   ],
   "source": [
    "merged_data.isnull().sum()"
   ]
  },
  {
   "cell_type": "code",
   "execution_count": 28,
   "metadata": {
    "colab": {
     "base_uri": "https://localhost:8080/"
    },
    "id": "mVcinnJLdV5D",
    "outputId": "94472833-5294-4c5b-d218-2bf395520f6a"
   },
   "outputs": [
    {
     "name": "stderr",
     "output_type": "stream",
     "text": [
      "[nltk_data] Downloading package stopwords to /root/nltk_data...\n",
      "[nltk_data]   Unzipping corpora/stopwords.zip.\n"
     ]
    },
    {
     "data": {
      "text/plain": [
       "True"
      ]
     },
     "execution_count": 28,
     "metadata": {},
     "output_type": "execute_result"
    }
   ],
   "source": [
    "import nltk\n",
    "from nltk.corpus import stopwords\n",
    "nltk.download('stopwords')"
   ]
  },
  {
   "cell_type": "code",
   "execution_count": 29,
   "metadata": {
    "colab": {
     "base_uri": "https://localhost:8080/"
    },
    "id": "i787TcsZdimb",
    "outputId": "73f15e4d-80cd-4506-ad14-4cf54ebdebfe"
   },
   "outputs": [
    {
     "data": {
      "text/plain": [
       "0         described fit year old grand daughter perfectl...\n",
       "1         cute went great halloween costume price asked ...\n",
       "2         item cheaply made full like picture resembles ...\n",
       "3                                                      cute\n",
       "4         full picture suggests smells like rotten fish ...\n",
       "                                ...                        \n",
       "633559    saw price table thought good true right table ...\n",
       "633560    first got unit bit disappointed set used found...\n",
       "633561    know calculated shipping cost understand know ...\n",
       "633562    ordered table set easy display art shop lightw...\n",
       "633563    decent priced table weekend campers unfortunat...\n",
       "Name: reviewText, Length: 498815, dtype: object"
      ]
     },
     "execution_count": 29,
     "metadata": {},
     "output_type": "execute_result"
    }
   ],
   "source": [
    "stop_word = stopwords.words('english')\n",
    "merged_data['reviewText'] = merged_data['reviewText'].apply(lambda x: ' '.join([word for word in x.split() if word not in (stop_word)]))\n",
    "merged_data['reviewText']"
   ]
  },
  {
   "cell_type": "code",
   "execution_count": 30,
   "metadata": {
    "id": "omd8m0cYdtud"
   },
   "outputs": [],
   "source": [
    "a=[]\n",
    "for x in merged_data['overall']: \n",
    "    if x>3:\n",
    "        x='Positive'\n",
    "        a.append(x)\n",
    "    elif x==3:\n",
    "        x='Neutral'\n",
    "        a.append(x)\n",
    "    else:\n",
    "        x='Negative'\n",
    "        a.append(x)"
   ]
  },
  {
   "cell_type": "code",
   "execution_count": 31,
   "metadata": {
    "id": "i47VxmYJeDUx"
   },
   "outputs": [],
   "source": [
    "merged_data[\"sentiment\"]=a"
   ]
  },
  {
   "cell_type": "code",
   "execution_count": 32,
   "metadata": {
    "id": "MlLmdYRAeG5A"
   },
   "outputs": [],
   "source": [
    "merged_data.dropna(inplace=True)"
   ]
  },
  {
   "cell_type": "code",
   "execution_count": 33,
   "metadata": {
    "id": "kb5TuRHmeOkf"
   },
   "outputs": [],
   "source": [
    "sports_df = merged_data"
   ]
  },
  {
   "cell_type": "code",
   "execution_count": 34,
   "metadata": {
    "colab": {
     "base_uri": "https://localhost:8080/"
    },
    "id": "MMP47vVTeV5p",
    "outputId": "d402f5f6-1f44-4b48-ca7a-df292ad242cb"
   },
   "outputs": [
    {
     "name": "stderr",
     "output_type": "stream",
     "text": [
      "[nltk_data] Downloading package vader_lexicon to /root/nltk_data...\n"
     ]
    },
    {
     "data": {
      "text/plain": [
       "True"
      ]
     },
     "execution_count": 34,
     "metadata": {},
     "output_type": "execute_result"
    }
   ],
   "source": [
    "nltk.download('vader_lexicon')"
   ]
  },
  {
   "cell_type": "code",
   "execution_count": 35,
   "metadata": {
    "colab": {
     "base_uri": "https://localhost:8080/",
     "height": 49,
     "referenced_widgets": [
      "4be0886adf1347c5932baafe6535ba36",
      "b4320b00029b4268a27ace86f3a28f51",
      "90f136ce5e584bc7b9badbac1640a2d6",
      "991da89ca1c045b784207b6da0d72eea",
      "36321871f83b41c0b48178c3e86288d1",
      "8c5dccb444214da9b691dff7403ddc79",
      "26d9d37bdd6a449bba8fe70e4e8fc119",
      "ca1d16a5c6344589aace80f5c18212ee",
      "66ea637049a54183a9153334c6911d0c",
      "22b5c0beffad44a7aa908e7b4cf6c564",
      "c3a6ada8eb224c1294332d08ac5d4739"
     ]
    },
    "id": "I5eq4SYUebVg",
    "outputId": "d9c137b1-80da-4f29-8c5d-5d02a5da195c"
   },
   "outputs": [
    {
     "data": {
      "application/vnd.jupyter.widget-view+json": {
       "model_id": "4be0886adf1347c5932baafe6535ba36",
       "version_major": 2,
       "version_minor": 0
      },
      "text/plain": [
       "  0%|          | 0/500000 [00:00<?, ?it/s]"
      ]
     },
     "metadata": {},
     "output_type": "display_data"
    }
   ],
   "source": [
    "from nltk.sentiment import SentimentIntensityAnalyzer\n",
    "from tqdm.notebook import tqdm \n",
    "res2 = {}\n",
    "t = 0\n",
    "for i, row in tqdm(sports_df.iterrows(), total=len(df)):\n",
    "    text = row['reviewText']\n",
    "    res2[t] = SentimentIntensityAnalyzer().polarity_scores(text)\n",
    "    t = t + 1"
   ]
  },
  {
   "cell_type": "code",
   "execution_count": 36,
   "metadata": {
    "id": "mnj6EJxme37C"
   },
   "outputs": [],
   "source": [
    "se = pd.DataFrame(res2).T\n",
    "se\n",
    "Main_data = pd.concat([sports_df, se], axis = 1)"
   ]
  },
  {
   "cell_type": "code",
   "execution_count": 37,
   "metadata": {
    "id": "fW2iKADdxpRc"
   },
   "outputs": [],
   "source": [
    "Main_data = Main_data.rename(columns={'neg': 'Negative','neu':'Neutral','pos':'Positive'})"
   ]
  },
  {
   "cell_type": "code",
   "execution_count": 38,
   "metadata": {
    "colab": {
     "base_uri": "https://localhost:8080/"
    },
    "id": "vfhFLD5lx2FH",
    "outputId": "6d74c7a2-ab4a-4daf-8c43-cd7ce3537c91"
   },
   "outputs": [
    {
     "data": {
      "text/plain": [
       "asin              134553\n",
       "reviewText        134553\n",
       "reviewerName      134553\n",
       "overall           134553\n",
       "unixReviewTime    134553\n",
       "reviewTime        134553\n",
       "reviewerID        134553\n",
       "title             134553\n",
       "category          134553\n",
       "price             134553\n",
       "brand             134553\n",
       "sentiment         134553\n",
       "Negative          134553\n",
       "Neutral           134553\n",
       "Positive          134553\n",
       "compound          134553\n",
       "dtype: int64"
      ]
     },
     "execution_count": 38,
     "metadata": {},
     "output_type": "execute_result"
    }
   ],
   "source": [
    "Main_data.isnull().sum()"
   ]
  },
  {
   "cell_type": "code",
   "execution_count": 39,
   "metadata": {
    "id": "23Czsjynx6J3"
   },
   "outputs": [],
   "source": [
    "Main_data.dropna(inplace=True)"
   ]
  },
  {
   "cell_type": "code",
   "execution_count": 40,
   "metadata": {
    "id": "SzA26HEfyBxK"
   },
   "outputs": [],
   "source": [
    "Main_data.insert(0, 'Class', np.nan)\n",
    "Main_data.loc[Main_data['compound']>=0.05, 'Class'] = 'Positive'\n",
    "Main_data.loc[Main_data['compound']<=-0.05, 'Class'] = 'Negative'\n",
    "Main_data.loc[((Main_data['compound'] > -0.05) & (Main_data['compound'] < 0.05)), 'Class'] = 'Neutral'"
   ]
  },
  {
   "cell_type": "code",
   "execution_count": 42,
   "metadata": {
    "colab": {
     "base_uri": "https://localhost:8080/",
     "height": 704
    },
    "id": "py5xW0htyW3H",
    "outputId": "6c5f9661-d13f-4447-9406-ab0030cdfa8b"
   },
   "outputs": [
    {
     "data": {
      "text/html": [
       "\n",
       "  <div id=\"df-88c52c98-f0d2-4a83-a9af-814b2236de29\">\n",
       "    <div class=\"colab-df-container\">\n",
       "      <div>\n",
       "<style scoped>\n",
       "    .dataframe tbody tr th:only-of-type {\n",
       "        vertical-align: middle;\n",
       "    }\n",
       "\n",
       "    .dataframe tbody tr th {\n",
       "        vertical-align: top;\n",
       "    }\n",
       "\n",
       "    .dataframe thead th {\n",
       "        text-align: right;\n",
       "    }\n",
       "</style>\n",
       "<table border=\"1\" class=\"dataframe\">\n",
       "  <thead>\n",
       "    <tr style=\"text-align: right;\">\n",
       "      <th></th>\n",
       "      <th>Class</th>\n",
       "      <th>asin</th>\n",
       "      <th>reviewText</th>\n",
       "      <th>reviewerName</th>\n",
       "      <th>overall</th>\n",
       "      <th>unixReviewTime</th>\n",
       "      <th>reviewTime</th>\n",
       "      <th>reviewerID</th>\n",
       "      <th>title</th>\n",
       "      <th>category</th>\n",
       "      <th>price</th>\n",
       "      <th>brand</th>\n",
       "      <th>sentiment</th>\n",
       "      <th>Negative</th>\n",
       "      <th>Neutral</th>\n",
       "      <th>Positive</th>\n",
       "      <th>compound</th>\n",
       "    </tr>\n",
       "  </thead>\n",
       "  <tbody>\n",
       "    <tr>\n",
       "      <th>0</th>\n",
       "      <td>Positive</td>\n",
       "      <td>0000031895</td>\n",
       "      <td>described fit year old grand daughter perfectl...</td>\n",
       "      <td>Lamb612000</td>\n",
       "      <td>5.0</td>\n",
       "      <td>1.391213e+09</td>\n",
       "      <td>2014-02-01</td>\n",
       "      <td>A23K73OVXJ04EG</td>\n",
       "      <td>Girls Ballet Tutu Neon Blue</td>\n",
       "      <td>[Sports &amp; Outdoors, Sports &amp; Fitness, Other Sp...</td>\n",
       "      <td>6.54</td>\n",
       "      <td>Bububibi</td>\n",
       "      <td>Positive</td>\n",
       "      <td>0.000</td>\n",
       "      <td>0.325</td>\n",
       "      <td>0.675</td>\n",
       "      <td>0.9712</td>\n",
       "    </tr>\n",
       "    <tr>\n",
       "      <th>1</th>\n",
       "      <td>Positive</td>\n",
       "      <td>0000031895</td>\n",
       "      <td>cute went great halloween costume price asked ...</td>\n",
       "      <td>Courtney R</td>\n",
       "      <td>4.0</td>\n",
       "      <td>1.384906e+09</td>\n",
       "      <td>2013-11-20</td>\n",
       "      <td>A2681T699HV6H1</td>\n",
       "      <td>Girls Ballet Tutu Neon Blue</td>\n",
       "      <td>[Sports &amp; Outdoors, Sports &amp; Fitness, Other Sp...</td>\n",
       "      <td>6.54</td>\n",
       "      <td>Bububibi</td>\n",
       "      <td>Positive</td>\n",
       "      <td>0.121</td>\n",
       "      <td>0.448</td>\n",
       "      <td>0.431</td>\n",
       "      <td>0.8748</td>\n",
       "    </tr>\n",
       "    <tr>\n",
       "      <th>2</th>\n",
       "      <td>Positive</td>\n",
       "      <td>0000031895</td>\n",
       "      <td>item cheaply made full like picture resembles ...</td>\n",
       "      <td>Julie Ortiz</td>\n",
       "      <td>1.0</td>\n",
       "      <td>1.477008e+09</td>\n",
       "      <td>2016-10-21</td>\n",
       "      <td>A374PA18DCGS5Y</td>\n",
       "      <td>Girls Ballet Tutu Neon Blue</td>\n",
       "      <td>[Sports &amp; Outdoors, Sports &amp; Fitness, Other Sp...</td>\n",
       "      <td>6.54</td>\n",
       "      <td>Bububibi</td>\n",
       "      <td>Negative</td>\n",
       "      <td>0.000</td>\n",
       "      <td>0.762</td>\n",
       "      <td>0.238</td>\n",
       "      <td>0.3612</td>\n",
       "    </tr>\n",
       "    <tr>\n",
       "      <th>3</th>\n",
       "      <td>Positive</td>\n",
       "      <td>0000031895</td>\n",
       "      <td>cute</td>\n",
       "      <td>Denise M.</td>\n",
       "      <td>5.0</td>\n",
       "      <td>1.476749e+09</td>\n",
       "      <td>2016-10-18</td>\n",
       "      <td>A14PVW2N5YBWSA</td>\n",
       "      <td>Girls Ballet Tutu Neon Blue</td>\n",
       "      <td>[Sports &amp; Outdoors, Sports &amp; Fitness, Other Sp...</td>\n",
       "      <td>6.54</td>\n",
       "      <td>Bububibi</td>\n",
       "      <td>Positive</td>\n",
       "      <td>0.000</td>\n",
       "      <td>0.000</td>\n",
       "      <td>1.000</td>\n",
       "      <td>0.4588</td>\n",
       "    </tr>\n",
       "    <tr>\n",
       "      <th>4</th>\n",
       "      <td>Negative</td>\n",
       "      <td>0000031895</td>\n",
       "      <td>full picture suggests smells like rotten fish ...</td>\n",
       "      <td>Danielle Zollar</td>\n",
       "      <td>1.0</td>\n",
       "      <td>1.476662e+09</td>\n",
       "      <td>2016-10-17</td>\n",
       "      <td>A2KWBC44QI2567</td>\n",
       "      <td>Girls Ballet Tutu Neon Blue</td>\n",
       "      <td>[Sports &amp; Outdoors, Sports &amp; Fitness, Other Sp...</td>\n",
       "      <td>6.54</td>\n",
       "      <td>Bububibi</td>\n",
       "      <td>Negative</td>\n",
       "      <td>0.258</td>\n",
       "      <td>0.547</td>\n",
       "      <td>0.195</td>\n",
       "      <td>-0.2023</td>\n",
       "    </tr>\n",
       "  </tbody>\n",
       "</table>\n",
       "</div>\n",
       "      <button class=\"colab-df-convert\" onclick=\"convertToInteractive('df-88c52c98-f0d2-4a83-a9af-814b2236de29')\"\n",
       "              title=\"Convert this dataframe to an interactive table.\"\n",
       "              style=\"display:none;\">\n",
       "        \n",
       "  <svg xmlns=\"http://www.w3.org/2000/svg\" height=\"24px\"viewBox=\"0 0 24 24\"\n",
       "       width=\"24px\">\n",
       "    <path d=\"M0 0h24v24H0V0z\" fill=\"none\"/>\n",
       "    <path d=\"M18.56 5.44l.94 2.06.94-2.06 2.06-.94-2.06-.94-.94-2.06-.94 2.06-2.06.94zm-11 1L8.5 8.5l.94-2.06 2.06-.94-2.06-.94L8.5 2.5l-.94 2.06-2.06.94zm10 10l.94 2.06.94-2.06 2.06-.94-2.06-.94-.94-2.06-.94 2.06-2.06.94z\"/><path d=\"M17.41 7.96l-1.37-1.37c-.4-.4-.92-.59-1.43-.59-.52 0-1.04.2-1.43.59L10.3 9.45l-7.72 7.72c-.78.78-.78 2.05 0 2.83L4 21.41c.39.39.9.59 1.41.59.51 0 1.02-.2 1.41-.59l7.78-7.78 2.81-2.81c.8-.78.8-2.07 0-2.86zM5.41 20L4 18.59l7.72-7.72 1.47 1.35L5.41 20z\"/>\n",
       "  </svg>\n",
       "      </button>\n",
       "      \n",
       "  <style>\n",
       "    .colab-df-container {\n",
       "      display:flex;\n",
       "      flex-wrap:wrap;\n",
       "      gap: 12px;\n",
       "    }\n",
       "\n",
       "    .colab-df-convert {\n",
       "      background-color: #E8F0FE;\n",
       "      border: none;\n",
       "      border-radius: 50%;\n",
       "      cursor: pointer;\n",
       "      display: none;\n",
       "      fill: #1967D2;\n",
       "      height: 32px;\n",
       "      padding: 0 0 0 0;\n",
       "      width: 32px;\n",
       "    }\n",
       "\n",
       "    .colab-df-convert:hover {\n",
       "      background-color: #E2EBFA;\n",
       "      box-shadow: 0px 1px 2px rgba(60, 64, 67, 0.3), 0px 1px 3px 1px rgba(60, 64, 67, 0.15);\n",
       "      fill: #174EA6;\n",
       "    }\n",
       "\n",
       "    [theme=dark] .colab-df-convert {\n",
       "      background-color: #3B4455;\n",
       "      fill: #D2E3FC;\n",
       "    }\n",
       "\n",
       "    [theme=dark] .colab-df-convert:hover {\n",
       "      background-color: #434B5C;\n",
       "      box-shadow: 0px 1px 3px 1px rgba(0, 0, 0, 0.15);\n",
       "      filter: drop-shadow(0px 1px 2px rgba(0, 0, 0, 0.3));\n",
       "      fill: #FFFFFF;\n",
       "    }\n",
       "  </style>\n",
       "\n",
       "      <script>\n",
       "        const buttonEl =\n",
       "          document.querySelector('#df-88c52c98-f0d2-4a83-a9af-814b2236de29 button.colab-df-convert');\n",
       "        buttonEl.style.display =\n",
       "          google.colab.kernel.accessAllowed ? 'block' : 'none';\n",
       "\n",
       "        async function convertToInteractive(key) {\n",
       "          const element = document.querySelector('#df-88c52c98-f0d2-4a83-a9af-814b2236de29');\n",
       "          const dataTable =\n",
       "            await google.colab.kernel.invokeFunction('convertToInteractive',\n",
       "                                                     [key], {});\n",
       "          if (!dataTable) return;\n",
       "\n",
       "          const docLinkHtml = 'Like what you see? Visit the ' +\n",
       "            '<a target=\"_blank\" href=https://colab.research.google.com/notebooks/data_table.ipynb>data table notebook</a>'\n",
       "            + ' to learn more about interactive tables.';\n",
       "          element.innerHTML = '';\n",
       "          dataTable['output_type'] = 'display_data';\n",
       "          await google.colab.output.renderOutput(dataTable, element);\n",
       "          const docLink = document.createElement('div');\n",
       "          docLink.innerHTML = docLinkHtml;\n",
       "          element.appendChild(docLink);\n",
       "        }\n",
       "      </script>\n",
       "    </div>\n",
       "  </div>\n",
       "  "
      ],
      "text/plain": [
       "      Class        asin                                         reviewText  \\\n",
       "0  Positive  0000031895  described fit year old grand daughter perfectl...   \n",
       "1  Positive  0000031895  cute went great halloween costume price asked ...   \n",
       "2  Positive  0000031895  item cheaply made full like picture resembles ...   \n",
       "3  Positive  0000031895                                               cute   \n",
       "4  Negative  0000031895  full picture suggests smells like rotten fish ...   \n",
       "\n",
       "      reviewerName  overall  unixReviewTime reviewTime      reviewerID  \\\n",
       "0       Lamb612000      5.0    1.391213e+09 2014-02-01  A23K73OVXJ04EG   \n",
       "1       Courtney R      4.0    1.384906e+09 2013-11-20  A2681T699HV6H1   \n",
       "2      Julie Ortiz      1.0    1.477008e+09 2016-10-21  A374PA18DCGS5Y   \n",
       "3        Denise M.      5.0    1.476749e+09 2016-10-18  A14PVW2N5YBWSA   \n",
       "4  Danielle Zollar      1.0    1.476662e+09 2016-10-17  A2KWBC44QI2567   \n",
       "\n",
       "                         title  \\\n",
       "0  Girls Ballet Tutu Neon Blue   \n",
       "1  Girls Ballet Tutu Neon Blue   \n",
       "2  Girls Ballet Tutu Neon Blue   \n",
       "3  Girls Ballet Tutu Neon Blue   \n",
       "4  Girls Ballet Tutu Neon Blue   \n",
       "\n",
       "                                            category  price     brand  \\\n",
       "0  [Sports & Outdoors, Sports & Fitness, Other Sp...   6.54  Bububibi   \n",
       "1  [Sports & Outdoors, Sports & Fitness, Other Sp...   6.54  Bububibi   \n",
       "2  [Sports & Outdoors, Sports & Fitness, Other Sp...   6.54  Bububibi   \n",
       "3  [Sports & Outdoors, Sports & Fitness, Other Sp...   6.54  Bububibi   \n",
       "4  [Sports & Outdoors, Sports & Fitness, Other Sp...   6.54  Bububibi   \n",
       "\n",
       "  sentiment  Negative  Neutral  Positive  compound  \n",
       "0  Positive     0.000    0.325     0.675    0.9712  \n",
       "1  Positive     0.121    0.448     0.431    0.8748  \n",
       "2  Negative     0.000    0.762     0.238    0.3612  \n",
       "3  Positive     0.000    0.000     1.000    0.4588  \n",
       "4  Negative     0.258    0.547     0.195   -0.2023  "
      ]
     },
     "execution_count": 42,
     "metadata": {},
     "output_type": "execute_result"
    }
   ],
   "source": [
    "Main_data.head()"
   ]
  },
  {
   "cell_type": "code",
   "execution_count": 43,
   "metadata": {
    "id": "8-melJPyyZ-c"
   },
   "outputs": [],
   "source": [
    "Main_data['year'] = pd.DatetimeIndex(Main_data['reviewTime']).year\n",
    "Main_data['month'] = pd.DatetimeIndex(Main_data['reviewTime']).month"
   ]
  },
  {
   "cell_type": "code",
   "execution_count": 44,
   "metadata": {
    "id": "Lih9MUnjyx7Z"
   },
   "outputs": [],
   "source": [
    "Main_data.to_csv(\"Sports_and_outdoors_datafinal.csv\")"
   ]
  },
  {
   "cell_type": "code",
   "execution_count": 46,
   "metadata": {
    "colab": {
     "base_uri": "https://localhost:8080/"
    },
    "id": "Qxs4dH09y8Fz",
    "outputId": "bd44f59c-6c49-486d-9c13-d979add72201"
   },
   "outputs": [
    {
     "data": {
      "text/plain": [
       "Positive    302605\n",
       "Negative     31624\n",
       "Neutral      30033\n",
       "Name: Class, dtype: int64"
      ]
     },
     "execution_count": 46,
     "metadata": {},
     "output_type": "execute_result"
    }
   ],
   "source": [
    "Main_data[\"Class\"].value_counts()"
   ]
  },
  {
   "cell_type": "code",
   "execution_count": 47,
   "metadata": {
    "colab": {
     "base_uri": "https://localhost:8080/",
     "height": 428
    },
    "id": "vTNctN1vzZd6",
    "outputId": "ca9316bd-77c0-4a80-8fac-4739edd4efd0"
   },
   "outputs": [
    {
     "data": {
      "image/png": "[encoded data removed]",
      "text/plain": [
       "<Figure size 640x480 with 1 Axes>"
      ]
     },
     "metadata": {},
     "output_type": "display_data"
    }
   ],
   "source": [
    "import matplotlib.pyplot as plt\n",
    "\n",
    "sentiment_counts = Main_data['Class'].value_counts()\n",
    "labels = sentiment_counts.index\n",
    "sizes = sentiment_counts.values\n",
    "colors = ['lightskyblue', 'lightcoral','green']\n",
    "\n",
    "fig1, ax1 = plt.subplots()\n",
    "ax1.pie(sizes, colors=colors, labels=labels, autopct='%1.1f%%', startangle=90)\n",
    "ax1.axis('equal')\n",
    "\n",
    "plt.title(\"Sentiment Distribution\")\n",
    "plt.show()"
   ]
  },
  {
   "cell_type": "code",
   "execution_count": 48,
   "metadata": {
    "id": "nZwYoxePztTa"
   },
   "outputs": [],
   "source": [
    "clean_data = pd.read_csv(r\"/content/drive/MyDrive/Sports_and_outdoors_datafinal.csv\")"
   ]
  },
  {
   "cell_type": "code",
   "execution_count": 57,
   "metadata": {
    "colab": {
     "base_uri": "https://localhost:8080/",
     "height": 652
    },
    "id": "-1SiNDyu2E49",
    "outputId": "b7d8a8e3-8a3d-424d-f68b-5f98fbfcc035"
   },
   "outputs": [
    {
     "data": {
      "text/html": [
       "\n",
       "  <div id=\"df-d0353feb-fc02-4765-937d-a93776a30127\">\n",
       "    <div class=\"colab-df-container\">\n",
       "      <div>\n",
       "<style scoped>\n",
       "    .dataframe tbody tr th:only-of-type {\n",
       "        vertical-align: middle;\n",
       "    }\n",
       "\n",
       "    .dataframe tbody tr th {\n",
       "        vertical-align: top;\n",
       "    }\n",
       "\n",
       "    .dataframe thead th {\n",
       "        text-align: right;\n",
       "    }\n",
       "</style>\n",
       "<table border=\"1\" class=\"dataframe\">\n",
       "  <thead>\n",
       "    <tr style=\"text-align: right;\">\n",
       "      <th></th>\n",
       "      <th>Class</th>\n",
       "      <th>asin</th>\n",
       "      <th>reviewText</th>\n",
       "      <th>reviewerName</th>\n",
       "      <th>overall</th>\n",
       "      <th>unixReviewTime</th>\n",
       "      <th>reviewTime</th>\n",
       "      <th>reviewerID</th>\n",
       "      <th>title</th>\n",
       "      <th>category</th>\n",
       "      <th>price</th>\n",
       "      <th>brand</th>\n",
       "      <th>sentiment</th>\n",
       "      <th>Negative</th>\n",
       "      <th>Neutral</th>\n",
       "      <th>Positive</th>\n",
       "      <th>compound</th>\n",
       "      <th>year</th>\n",
       "      <th>month</th>\n",
       "    </tr>\n",
       "  </thead>\n",
       "  <tbody>\n",
       "    <tr>\n",
       "      <th>0</th>\n",
       "      <td>Positive</td>\n",
       "      <td>0000031895</td>\n",
       "      <td>described fit year old grand daughter perfectl...</td>\n",
       "      <td>Lamb612000</td>\n",
       "      <td>5.0</td>\n",
       "      <td>1.391213e+09</td>\n",
       "      <td>2014-02-01</td>\n",
       "      <td>A23K73OVXJ04EG</td>\n",
       "      <td>Girls Ballet Tutu Neon Blue</td>\n",
       "      <td>['Sports &amp; Outdoors', 'Sports &amp; Fitness', 'Oth...</td>\n",
       "      <td>6.54</td>\n",
       "      <td>Bububibi</td>\n",
       "      <td>Positive</td>\n",
       "      <td>0.000</td>\n",
       "      <td>0.325</td>\n",
       "      <td>0.675</td>\n",
       "      <td>0.9712</td>\n",
       "      <td>2014</td>\n",
       "      <td>2</td>\n",
       "    </tr>\n",
       "    <tr>\n",
       "      <th>1</th>\n",
       "      <td>Positive</td>\n",
       "      <td>0000031895</td>\n",
       "      <td>cute went great halloween costume price asked ...</td>\n",
       "      <td>Courtney R</td>\n",
       "      <td>4.0</td>\n",
       "      <td>1.384906e+09</td>\n",
       "      <td>2013-11-20</td>\n",
       "      <td>A2681T699HV6H1</td>\n",
       "      <td>Girls Ballet Tutu Neon Blue</td>\n",
       "      <td>['Sports &amp; Outdoors', 'Sports &amp; Fitness', 'Oth...</td>\n",
       "      <td>6.54</td>\n",
       "      <td>Bububibi</td>\n",
       "      <td>Positive</td>\n",
       "      <td>0.121</td>\n",
       "      <td>0.448</td>\n",
       "      <td>0.431</td>\n",
       "      <td>0.8748</td>\n",
       "      <td>2013</td>\n",
       "      <td>11</td>\n",
       "    </tr>\n",
       "    <tr>\n",
       "      <th>2</th>\n",
       "      <td>Positive</td>\n",
       "      <td>0000031895</td>\n",
       "      <td>item cheaply made full like picture resembles ...</td>\n",
       "      <td>Julie Ortiz</td>\n",
       "      <td>1.0</td>\n",
       "      <td>1.477008e+09</td>\n",
       "      <td>2016-10-21</td>\n",
       "      <td>A374PA18DCGS5Y</td>\n",
       "      <td>Girls Ballet Tutu Neon Blue</td>\n",
       "      <td>['Sports &amp; Outdoors', 'Sports &amp; Fitness', 'Oth...</td>\n",
       "      <td>6.54</td>\n",
       "      <td>Bububibi</td>\n",
       "      <td>Negative</td>\n",
       "      <td>0.000</td>\n",
       "      <td>0.762</td>\n",
       "      <td>0.238</td>\n",
       "      <td>0.3612</td>\n",
       "      <td>2016</td>\n",
       "      <td>10</td>\n",
       "    </tr>\n",
       "    <tr>\n",
       "      <th>3</th>\n",
       "      <td>Positive</td>\n",
       "      <td>0000031895</td>\n",
       "      <td>cute</td>\n",
       "      <td>Denise M.</td>\n",
       "      <td>5.0</td>\n",
       "      <td>1.476749e+09</td>\n",
       "      <td>2016-10-18</td>\n",
       "      <td>A14PVW2N5YBWSA</td>\n",
       "      <td>Girls Ballet Tutu Neon Blue</td>\n",
       "      <td>['Sports &amp; Outdoors', 'Sports &amp; Fitness', 'Oth...</td>\n",
       "      <td>6.54</td>\n",
       "      <td>Bububibi</td>\n",
       "      <td>Positive</td>\n",
       "      <td>0.000</td>\n",
       "      <td>0.000</td>\n",
       "      <td>1.000</td>\n",
       "      <td>0.4588</td>\n",
       "      <td>2016</td>\n",
       "      <td>10</td>\n",
       "    </tr>\n",
       "    <tr>\n",
       "      <th>4</th>\n",
       "      <td>Negative</td>\n",
       "      <td>0000031895</td>\n",
       "      <td>full picture suggests smells like rotten fish ...</td>\n",
       "      <td>Danielle Zollar</td>\n",
       "      <td>1.0</td>\n",
       "      <td>1.476662e+09</td>\n",
       "      <td>2016-10-17</td>\n",
       "      <td>A2KWBC44QI2567</td>\n",
       "      <td>Girls Ballet Tutu Neon Blue</td>\n",
       "      <td>['Sports &amp; Outdoors', 'Sports &amp; Fitness', 'Oth...</td>\n",
       "      <td>6.54</td>\n",
       "      <td>Bububibi</td>\n",
       "      <td>Negative</td>\n",
       "      <td>0.258</td>\n",
       "      <td>0.547</td>\n",
       "      <td>0.195</td>\n",
       "      <td>-0.2023</td>\n",
       "      <td>2016</td>\n",
       "      <td>10</td>\n",
       "    </tr>\n",
       "  </tbody>\n",
       "</table>\n",
       "</div>\n",
       "      <button class=\"colab-df-convert\" onclick=\"convertToInteractive('df-d0353feb-fc02-4765-937d-a93776a30127')\"\n",
       "              title=\"Convert this dataframe to an interactive table.\"\n",
       "              style=\"display:none;\">\n",
       "        \n",
       "  <svg xmlns=\"http://www.w3.org/2000/svg\" height=\"24px\"viewBox=\"0 0 24 24\"\n",
       "       width=\"24px\">\n",
       "    <path d=\"M0 0h24v24H0V0z\" fill=\"none\"/>\n",
       "    <path d=\"M18.56 5.44l.94 2.06.94-2.06 2.06-.94-2.06-.94-.94-2.06-.94 2.06-2.06.94zm-11 1L8.5 8.5l.94-2.06 2.06-.94-2.06-.94L8.5 2.5l-.94 2.06-2.06.94zm10 10l.94 2.06.94-2.06 2.06-.94-2.06-.94-.94-2.06-.94 2.06-2.06.94z\"/><path d=\"M17.41 7.96l-1.37-1.37c-.4-.4-.92-.59-1.43-.59-.52 0-1.04.2-1.43.59L10.3 9.45l-7.72 7.72c-.78.78-.78 2.05 0 2.83L4 21.41c.39.39.9.59 1.41.59.51 0 1.02-.2 1.41-.59l7.78-7.78 2.81-2.81c.8-.78.8-2.07 0-2.86zM5.41 20L4 18.59l7.72-7.72 1.47 1.35L5.41 20z\"/>\n",
       "  </svg>\n",
       "      </button>\n",
       "      \n",
       "  <style>\n",
       "    .colab-df-container {\n",
       "      display:flex;\n",
       "      flex-wrap:wrap;\n",
       "      gap: 12px;\n",
       "    }\n",
       "\n",
       "    .colab-df-convert {\n",
       "      background-color: #E8F0FE;\n",
       "      border: none;\n",
       "      border-radius: 50%;\n",
       "      cursor: pointer;\n",
       "      display: none;\n",
       "      fill: #1967D2;\n",
       "      height: 32px;\n",
       "      padding: 0 0 0 0;\n",
       "      width: 32px;\n",
       "    }\n",
       "\n",
       "    .colab-df-convert:hover {\n",
       "      background-color: #E2EBFA;\n",
       "      box-shadow: 0px 1px 2px rgba(60, 64, 67, 0.3), 0px 1px 3px 1px rgba(60, 64, 67, 0.15);\n",
       "      fill: #174EA6;\n",
       "    }\n",
       "\n",
       "    [theme=dark] .colab-df-convert {\n",
       "      background-color: #3B4455;\n",
       "      fill: #D2E3FC;\n",
       "    }\n",
       "\n",
       "    [theme=dark] .colab-df-convert:hover {\n",
       "      background-color: #434B5C;\n",
       "      box-shadow: 0px 1px 3px 1px rgba(0, 0, 0, 0.15);\n",
       "      filter: drop-shadow(0px 1px 2px rgba(0, 0, 0, 0.3));\n",
       "      fill: #FFFFFF;\n",
       "    }\n",
       "  </style>\n",
       "\n",
       "      <script>\n",
       "        const buttonEl =\n",
       "          document.querySelector('#df-d0353feb-fc02-4765-937d-a93776a30127 button.colab-df-convert');\n",
       "        buttonEl.style.display =\n",
       "          google.colab.kernel.accessAllowed ? 'block' : 'none';\n",
       "\n",
       "        async function convertToInteractive(key) {\n",
       "          const element = document.querySelector('#df-d0353feb-fc02-4765-937d-a93776a30127');\n",
       "          const dataTable =\n",
       "            await google.colab.kernel.invokeFunction('convertToInteractive',\n",
       "                                                     [key], {});\n",
       "          if (!dataTable) return;\n",
       "\n",
       "          const docLinkHtml = 'Like what you see? Visit the ' +\n",
       "            '<a target=\"_blank\" href=https://colab.research.google.com/notebooks/data_table.ipynb>data table notebook</a>'\n",
       "            + ' to learn more about interactive tables.';\n",
       "          element.innerHTML = '';\n",
       "          dataTable['output_type'] = 'display_data';\n",
       "          await google.colab.output.renderOutput(dataTable, element);\n",
       "          const docLink = document.createElement('div');\n",
       "          docLink.innerHTML = docLinkHtml;\n",
       "          element.appendChild(docLink);\n",
       "        }\n",
       "      </script>\n",
       "    </div>\n",
       "  </div>\n",
       "  "
      ],
      "text/plain": [
       "      Class        asin                                         reviewText  \\\n",
       "0  Positive  0000031895  described fit year old grand daughter perfectl...   \n",
       "1  Positive  0000031895  cute went great halloween costume price asked ...   \n",
       "2  Positive  0000031895  item cheaply made full like picture resembles ...   \n",
       "3  Positive  0000031895                                               cute   \n",
       "4  Negative  0000031895  full picture suggests smells like rotten fish ...   \n",
       "\n",
       "      reviewerName  overall  unixReviewTime  reviewTime      reviewerID  \\\n",
       "0       Lamb612000      5.0    1.391213e+09  2014-02-01  A23K73OVXJ04EG   \n",
       "1       Courtney R      4.0    1.384906e+09  2013-11-20  A2681T699HV6H1   \n",
       "2      Julie Ortiz      1.0    1.477008e+09  2016-10-21  A374PA18DCGS5Y   \n",
       "3        Denise M.      5.0    1.476749e+09  2016-10-18  A14PVW2N5YBWSA   \n",
       "4  Danielle Zollar      1.0    1.476662e+09  2016-10-17  A2KWBC44QI2567   \n",
       "\n",
       "                         title  \\\n",
       "0  Girls Ballet Tutu Neon Blue   \n",
       "1  Girls Ballet Tutu Neon Blue   \n",
       "2  Girls Ballet Tutu Neon Blue   \n",
       "3  Girls Ballet Tutu Neon Blue   \n",
       "4  Girls Ballet Tutu Neon Blue   \n",
       "\n",
       "                                            category  price     brand  \\\n",
       "0  ['Sports & Outdoors', 'Sports & Fitness', 'Oth...   6.54  Bububibi   \n",
       "1  ['Sports & Outdoors', 'Sports & Fitness', 'Oth...   6.54  Bububibi   \n",
       "2  ['Sports & Outdoors', 'Sports & Fitness', 'Oth...   6.54  Bububibi   \n",
       "3  ['Sports & Outdoors', 'Sports & Fitness', 'Oth...   6.54  Bububibi   \n",
       "4  ['Sports & Outdoors', 'Sports & Fitness', 'Oth...   6.54  Bububibi   \n",
       "\n",
       "  sentiment  Negative  Neutral  Positive  compound  year  month  \n",
       "0  Positive     0.000    0.325     0.675    0.9712  2014      2  \n",
       "1  Positive     0.121    0.448     0.431    0.8748  2013     11  \n",
       "2  Negative     0.000    0.762     0.238    0.3612  2016     10  \n",
       "3  Positive     0.000    0.000     1.000    0.4588  2016     10  \n",
       "4  Negative     0.258    0.547     0.195   -0.2023  2016     10  "
      ]
     },
     "execution_count": 57,
     "metadata": {},
     "output_type": "execute_result"
    }
   ],
   "source": [
    "clean_data.head()"
   ]
  },
  {
   "cell_type": "code",
   "execution_count": 56,
   "metadata": {
    "id": "-hSMkrdV2Idv"
   },
   "outputs": [],
   "source": [
    "clean_data.drop(columns=[\"Unnamed: 0\"],inplace=True)\n"
   ]
  },
  {
   "cell_type": "code",
   "execution_count": 67,
   "metadata": {
    "id": "3QvBqf9965Wl"
   },
   "outputs": [],
   "source": [
    "clean_data.dropna(inplace=True)"
   ]
  },
  {
   "cell_type": "code",
   "execution_count": 59,
   "metadata": {
    "id": "myjXUGe52Y1n"
   },
   "outputs": [],
   "source": [
    "clean_data.rename(columns = {'Class':'Sentiment_Class'}, inplace = True)"
   ]
  },
  {
   "cell_type": "code",
   "execution_count": 96,
   "metadata": {
    "id": "hrzySVoA4cFZ"
   },
   "outputs": [],
   "source": [
    "from sklearn.preprocessing import LabelEncoder\n",
    "X = clean_data['reviewText'][:150000]\n",
    "y = clean_data['Sentiment_Class'][:150000]"
   ]
  },
  {
   "cell_type": "code",
   "execution_count": 99,
   "metadata": {
    "colab": {
     "base_uri": "https://localhost:8080/",
     "height": 221
    },
    "id": "r3Lf3XB25jNk",
    "outputId": "1ceae4c4-d1e4-4831-d075-14b6c17563b7"
   },
   "outputs": [
    {
     "name": "stderr",
     "output_type": "stream",
     "text": [
      "[Parallel(n_jobs=1)]: Using backend SequentialBackend with 1 concurrent workers.\n",
      "[Parallel(n_jobs=1)]: Done   1 out of   1 | elapsed:    6.6s finished\n",
      "[Parallel(n_jobs=1)]: Using backend SequentialBackend with 1 concurrent workers.\n",
      "[Parallel(n_jobs=1)]: Done   1 out of   1 | elapsed:    6.2s finished\n",
      "[Parallel(n_jobs=1)]: Using backend SequentialBackend with 1 concurrent workers.\n",
      "[Parallel(n_jobs=1)]: Done   1 out of   1 | elapsed:   11.1s finished\n"
     ]
    },
    {
     "data": {
      "text/html": [
       "<style>#sk-container-id-3 {color: black;background-color: white;}#sk-container-id-3 pre{padding: 0;}#sk-container-id-3 div.sk-toggleable {background-color: white;}#sk-container-id-3 label.sk-toggleable__label {cursor: pointer;display: block;width: 100%;margin-bottom: 0;padding: 0.3em;box-sizing: border-box;text-align: center;}#sk-container-id-3 label.sk-toggleable__label-arrow:before {content: \"▸\";float: left;margin-right: 0.25em;color: #696969;}#sk-container-id-3 label.sk-toggleable__label-arrow:hover:before {color: black;}#sk-container-id-3 div.sk-estimator:hover label.sk-toggleable__label-arrow:before {color: black;}#sk-container-id-3 div.sk-toggleable__content {max-height: 0;max-width: 0;overflow: hidden;text-align: left;background-color: #f0f8ff;}#sk-container-id-3 div.sk-toggleable__content pre {margin: 0.2em;color: black;border-radius: 0.25em;background-color: #f0f8ff;}#sk-container-id-3 input.sk-toggleable__control:checked~div.sk-toggleable__content {max-height: 200px;max-width: 100%;overflow: auto;}#sk-container-id-3 input.sk-toggleable__control:checked~label.sk-toggleable__label-arrow:before {content: \"▾\";}#sk-container-id-3 div.sk-estimator input.sk-toggleable__control:checked~label.sk-toggleable__label {background-color: #d4ebff;}#sk-container-id-3 div.sk-label input.sk-toggleable__control:checked~label.sk-toggleable__label {background-color: #d4ebff;}#sk-container-id-3 input.sk-hidden--visually {border: 0;clip: rect(1px 1px 1px 1px);clip: rect(1px, 1px, 1px, 1px);height: 1px;margin: -1px;overflow: hidden;padding: 0;position: absolute;width: 1px;}#sk-container-id-3 div.sk-estimator {font-family: monospace;background-color: #f0f8ff;border: 1px dotted black;border-radius: 0.25em;box-sizing: border-box;margin-bottom: 0.5em;}#sk-container-id-3 div.sk-estimator:hover {background-color: #d4ebff;}#sk-container-id-3 div.sk-parallel-item::after {content: \"\";width: 100%;border-bottom: 1px solid gray;flex-grow: 1;}#sk-container-id-3 div.sk-label:hover label.sk-toggleable__label {background-color: #d4ebff;}#sk-container-id-3 div.sk-serial::before {content: \"\";position: absolute;border-left: 1px solid gray;box-sizing: border-box;top: 0;bottom: 0;left: 50%;z-index: 0;}#sk-container-id-3 div.sk-serial {display: flex;flex-direction: column;align-items: center;background-color: white;padding-right: 0.2em;padding-left: 0.2em;position: relative;}#sk-container-id-3 div.sk-item {position: relative;z-index: 1;}#sk-container-id-3 div.sk-parallel {display: flex;align-items: stretch;justify-content: center;background-color: white;position: relative;}#sk-container-id-3 div.sk-item::before, #sk-container-id-3 div.sk-parallel-item::before {content: \"\";position: absolute;border-left: 1px solid gray;box-sizing: border-box;top: 0;bottom: 0;left: 50%;z-index: -1;}#sk-container-id-3 div.sk-parallel-item {display: flex;flex-direction: column;z-index: 1;position: relative;background-color: white;}#sk-container-id-3 div.sk-parallel-item:first-child::after {align-self: flex-end;width: 50%;}#sk-container-id-3 div.sk-parallel-item:last-child::after {align-self: flex-start;width: 50%;}#sk-container-id-3 div.sk-parallel-item:only-child::after {width: 0;}#sk-container-id-3 div.sk-dashed-wrapped {border: 1px dashed gray;margin: 0 0.4em 0.5em 0.4em;box-sizing: border-box;padding-bottom: 0.4em;background-color: white;}#sk-container-id-3 div.sk-label label {font-family: monospace;font-weight: bold;display: inline-block;line-height: 1.2em;}#sk-container-id-3 div.sk-label-container {text-align: center;}#sk-container-id-3 div.sk-container {/* jupyter's `normalize.less` sets `[hidden] { display: none; }` but bootstrap.min.css set `[hidden] { display: none !important; }` so we also need the `!important` here to be able to override the default hidden behavior on the sphinx rendered scikit-learn.org. See: https://github.com/scikit-learn/scikit-learn/issues/21755 */display: inline-block !important;position: relative;}#sk-container-id-3 div.sk-text-repr-fallback {display: none;}</style><div id=\"sk-container-id-3\" class=\"sk-top-container\"><div class=\"sk-text-repr-fallback\"><pre>OneVsRestClassifier(estimator=LogisticRegression(max_iter=200, verbose=1))</pre><b>In a Jupyter environment, please rerun this cell to show the HTML representation or trust the notebook. <br />On GitHub, the HTML representation is unable to render, please try loading this page with nbviewer.org.</b></div><div class=\"sk-container\" hidden><div class=\"sk-item sk-dashed-wrapped\"><div class=\"sk-label-container\"><div class=\"sk-label sk-toggleable\"><input class=\"sk-toggleable__control sk-hidden--visually\" id=\"sk-estimator-id-7\" type=\"checkbox\" ><label for=\"sk-estimator-id-7\" class=\"sk-toggleable__label sk-toggleable__label-arrow\">OneVsRestClassifier</label><div class=\"sk-toggleable__content\"><pre>OneVsRestClassifier(estimator=LogisticRegression(max_iter=200, verbose=1))</pre></div></div></div><div class=\"sk-parallel\"><div class=\"sk-parallel-item\"><div class=\"sk-item\"><div class=\"sk-label-container\"><div class=\"sk-label sk-toggleable\"><input class=\"sk-toggleable__control sk-hidden--visually\" id=\"sk-estimator-id-8\" type=\"checkbox\" ><label for=\"sk-estimator-id-8\" class=\"sk-toggleable__label sk-toggleable__label-arrow\">estimator: LogisticRegression</label><div class=\"sk-toggleable__content\"><pre>LogisticRegression(max_iter=200, verbose=1)</pre></div></div></div><div class=\"sk-serial\"><div class=\"sk-item\"><div class=\"sk-estimator sk-toggleable\"><input class=\"sk-toggleable__control sk-hidden--visually\" id=\"sk-estimator-id-9\" type=\"checkbox\" ><label for=\"sk-estimator-id-9\" class=\"sk-toggleable__label sk-toggleable__label-arrow\">LogisticRegression</label><div class=\"sk-toggleable__content\"><pre>LogisticRegression(max_iter=200, verbose=1)</pre></div></div></div></div></div></div></div></div></div></div>"
      ],
      "text/plain": [
       "OneVsRestClassifier(estimator=LogisticRegression(max_iter=200, verbose=1))"
      ]
     },
     "execution_count": 99,
     "metadata": {},
     "output_type": "execute_result"
    }
   ],
   "source": [
    "from sklearn.model_selection import train_test_split\n",
    "from sklearn.linear_model import LogisticRegression\n",
    "from sklearn.feature_extraction.text import TfidfVectorizer\n",
    "from sklearn.multiclass import OneVsRestClassifier\n",
    "X_train, X_test, y_train, y_test = train_test_split(X, y, test_size=0.3, random_state=42)\n",
    "myvector = TfidfVectorizer()\n",
    "X_train = myvector.fit_transform(X_train)\n",
    "X_test = myvector.transform(X_test)\n",
    "lr1 = LogisticRegression(max_iter=200, verbose = 1)\n",
    "ovr = OneVsRestClassifier(lr1)\n",
    "ovr.fit(X_train,y_train)"
   ]
  },
  {
   "cell_type": "code",
   "execution_count": 80,
   "metadata": {
    "id": "-Ouzo1pA6EX9"
   },
   "outputs": [],
   "source": [
    "y_pred = ovr.predict(X_test)"
   ]
  },
  {
   "cell_type": "code",
   "execution_count": 81,
   "metadata": {
    "colab": {
     "base_uri": "https://localhost:8080/"
    },
    "id": "PXhdwcCg6gjQ",
    "outputId": "d7c905db-0ebc-48f1-d386-148711d2c75d"
   },
   "outputs": [
    {
     "name": "stderr",
     "output_type": "stream",
     "text": [
      "/usr/local/lib/python3.9/dist-packages/sklearn/metrics/_classification.py:1344: UndefinedMetricWarning: Precision and F-score are ill-defined and being set to 0.0 in labels with no predicted samples. Use `zero_division` parameter to control this behavior.\n",
      "  _warn_prf(average, modifier, msg_start, len(result))\n",
      "/usr/local/lib/python3.9/dist-packages/sklearn/metrics/_classification.py:1344: UndefinedMetricWarning: Precision and F-score are ill-defined and being set to 0.0 in labels with no predicted samples. Use `zero_division` parameter to control this behavior.\n",
      "  _warn_prf(average, modifier, msg_start, len(result))\n"
     ]
    },
    {
     "name": "stdout",
     "output_type": "stream",
     "text": [
      "              precision    recall  f1-score   support\n",
      "\n",
      "    Negative       0.00      0.00      0.00      3769\n",
      "     Neutral       0.00      0.00      0.00      3829\n",
      "    Positive       0.83      1.00      0.91     37402\n",
      "\n",
      "    accuracy                           0.83     45000\n",
      "   macro avg       0.28      0.33      0.30     45000\n",
      "weighted avg       0.69      0.83      0.75     45000\n",
      "\n"
     ]
    },
    {
     "name": "stderr",
     "output_type": "stream",
     "text": [
      "/usr/local/lib/python3.9/dist-packages/sklearn/metrics/_classification.py:1344: UndefinedMetricWarning: Precision and F-score are ill-defined and being set to 0.0 in labels with no predicted samples. Use `zero_division` parameter to control this behavior.\n",
      "  _warn_prf(average, modifier, msg_start, len(result))\n"
     ]
    }
   ],
   "source": [
    "from sklearn.metrics import classification_report\n",
    "print(classification_report(y_test, y_pred))"
   ]
  },
  {
   "cell_type": "code",
   "execution_count": 82,
   "metadata": {
    "id": "Lf2AZqfm7Lri"
   },
   "outputs": [],
   "source": [
    "y_actual = ovr.predict(X_train)"
   ]
  },
  {
   "cell_type": "code",
   "execution_count": 83,
   "metadata": {
    "colab": {
     "base_uri": "https://localhost:8080/"
    },
    "id": "u5TGs8T589mt",
    "outputId": "bb153a74-4cee-4813-9d60-c342225b0796"
   },
   "outputs": [
    {
     "name": "stderr",
     "output_type": "stream",
     "text": [
      "/usr/local/lib/python3.9/dist-packages/sklearn/metrics/_classification.py:1344: UndefinedMetricWarning: Precision and F-score are ill-defined and being set to 0.0 in labels with no predicted samples. Use `zero_division` parameter to control this behavior.\n",
      "  _warn_prf(average, modifier, msg_start, len(result))\n",
      "/usr/local/lib/python3.9/dist-packages/sklearn/metrics/_classification.py:1344: UndefinedMetricWarning: Precision and F-score are ill-defined and being set to 0.0 in labels with no predicted samples. Use `zero_division` parameter to control this behavior.\n",
      "  _warn_prf(average, modifier, msg_start, len(result))\n"
     ]
    },
    {
     "name": "stdout",
     "output_type": "stream",
     "text": [
      "              precision    recall  f1-score   support\n",
      "\n",
      "    Negative       0.00      0.00      0.00      8648\n",
      "     Neutral       0.00      0.00      0.00      9187\n",
      "    Positive       0.83      1.00      0.91     87165\n",
      "\n",
      "    accuracy                           0.83    105000\n",
      "   macro avg       0.28      0.33      0.30    105000\n",
      "weighted avg       0.69      0.83      0.75    105000\n",
      "\n"
     ]
    },
    {
     "name": "stderr",
     "output_type": "stream",
     "text": [
      "/usr/local/lib/python3.9/dist-packages/sklearn/metrics/_classification.py:1344: UndefinedMetricWarning: Precision and F-score are ill-defined and being set to 0.0 in labels with no predicted samples. Use `zero_division` parameter to control this behavior.\n",
      "  _warn_prf(average, modifier, msg_start, len(result))\n"
     ]
    }
   ],
   "source": [
    "print(classification_report(y_train, y_actual))"
   ]
  },
  {
   "cell_type": "code",
   "execution_count": 84,
   "metadata": {
    "colab": {
     "base_uri": "https://localhost:8080/",
     "height": 449
    },
    "id": "8Sy8DAJC9Fup",
    "outputId": "17315468-e434-4493-e59c-4d5122d26946"
   },
   "outputs": [
    {
     "data": {
      "image/png": "[encoded data removed]",
      "text/plain": [
       "<Figure size 640x480 with 2 Axes>"
      ]
     },
     "metadata": {},
     "output_type": "display_data"
    }
   ],
   "source": [
    "from sklearn.metrics import confusion_matrix\n",
    "import seaborn as sns\n",
    "\n",
    "y_pred = ovr.predict(X_test)\n",
    "cm = confusion_matrix(y_test, y_pred)\n",
    "\n",
    "sns.heatmap(cm, annot=True, cmap='Blues', fmt='g', xticklabels=['Negative', 'Neutral', 'Positive'], yticklabels=['Negative', 'Neutral', 'Positive'])\n",
    "plt.xlabel('Predicted')\n",
    "plt.ylabel('Actual')\n",
    "plt.show()"
   ]
  },
  {
   "cell_type": "code",
   "execution_count": 85,
   "metadata": {
    "colab": {
     "base_uri": "https://localhost:8080/"
    },
    "id": "kydkKYDV92ZX",
    "outputId": "e9e3a318-1de1-4ada-cf12-4b0de8ecbe1d"
   },
   "outputs": [
    {
     "name": "stderr",
     "output_type": "stream",
     "text": [
      "[Parallel(n_jobs=1)]: Using backend SequentialBackend with 1 concurrent workers.\n",
      "/usr/local/lib/python3.9/dist-packages/sklearn/linear_model/_logistic.py:458: ConvergenceWarning: lbfgs failed to converge (status=1):\n",
      "STOP: TOTAL NO. of ITERATIONS REACHED LIMIT.\n",
      "\n",
      "Increase the number of iterations (max_iter) or scale the data as shown in:\n",
      "    https://scikit-learn.org/stable/modules/preprocessing.html\n",
      "Please also refer to the documentation for alternative solver options:\n",
      "    https://scikit-learn.org/stable/modules/linear_model.html#logistic-regression\n",
      "  n_iter_i = _check_optimize_result(\n",
      "[Parallel(n_jobs=1)]: Done   1 out of   1 | elapsed:   37.0s finished\n",
      "[Parallel(n_jobs=1)]: Using backend SequentialBackend with 1 concurrent workers.\n",
      "/usr/local/lib/python3.9/dist-packages/sklearn/linear_model/_logistic.py:458: ConvergenceWarning: lbfgs failed to converge (status=1):\n",
      "STOP: TOTAL NO. of ITERATIONS REACHED LIMIT.\n",
      "\n",
      "Increase the number of iterations (max_iter) or scale the data as shown in:\n",
      "    https://scikit-learn.org/stable/modules/preprocessing.html\n",
      "Please also refer to the documentation for alternative solver options:\n",
      "    https://scikit-learn.org/stable/modules/linear_model.html#logistic-regression\n",
      "  n_iter_i = _check_optimize_result(\n",
      "[Parallel(n_jobs=1)]: Done   1 out of   1 | elapsed:   31.9s finished\n",
      "[Parallel(n_jobs=1)]: Using backend SequentialBackend with 1 concurrent workers.\n",
      "/usr/local/lib/python3.9/dist-packages/sklearn/linear_model/_logistic.py:458: ConvergenceWarning: lbfgs failed to converge (status=1):\n",
      "STOP: TOTAL NO. of ITERATIONS REACHED LIMIT.\n",
      "\n",
      "Increase the number of iterations (max_iter) or scale the data as shown in:\n",
      "    https://scikit-learn.org/stable/modules/preprocessing.html\n",
      "Please also refer to the documentation for alternative solver options:\n",
      "    https://scikit-learn.org/stable/modules/linear_model.html#logistic-regression\n",
      "  n_iter_i = _check_optimize_result(\n",
      "[Parallel(n_jobs=1)]: Done   1 out of   1 | elapsed:   35.3s finished\n",
      "[Parallel(n_jobs=1)]: Using backend SequentialBackend with 1 concurrent workers.\n",
      "/usr/local/lib/python3.9/dist-packages/sklearn/linear_model/_logistic.py:458: ConvergenceWarning: lbfgs failed to converge (status=1):\n",
      "STOP: TOTAL NO. of ITERATIONS REACHED LIMIT.\n",
      "\n",
      "Increase the number of iterations (max_iter) or scale the data as shown in:\n",
      "    https://scikit-learn.org/stable/modules/preprocessing.html\n",
      "Please also refer to the documentation for alternative solver options:\n",
      "    https://scikit-learn.org/stable/modules/linear_model.html#logistic-regression\n",
      "  n_iter_i = _check_optimize_result(\n",
      "[Parallel(n_jobs=1)]: Done   1 out of   1 | elapsed:   30.5s finished\n",
      "[Parallel(n_jobs=1)]: Using backend SequentialBackend with 1 concurrent workers.\n"
     ]
    },
    {
     "name": "stdout",
     "output_type": "stream",
     "text": [
      "Cross-validation scores: [0.83046667 0.82273333 0.81283333 0.82603333 0.82566667]\n",
      "Mean cross-validation score: 0.82\n",
      "Standard deviation of cross-validation score: 0.01\n"
     ]
    },
    {
     "name": "stderr",
     "output_type": "stream",
     "text": [
      "/usr/local/lib/python3.9/dist-packages/sklearn/linear_model/_logistic.py:458: ConvergenceWarning: lbfgs failed to converge (status=1):\n",
      "STOP: TOTAL NO. of ITERATIONS REACHED LIMIT.\n",
      "\n",
      "Increase the number of iterations (max_iter) or scale the data as shown in:\n",
      "    https://scikit-learn.org/stable/modules/preprocessing.html\n",
      "Please also refer to the documentation for alternative solver options:\n",
      "    https://scikit-learn.org/stable/modules/linear_model.html#logistic-regression\n",
      "  n_iter_i = _check_optimize_result(\n",
      "[Parallel(n_jobs=1)]: Done   1 out of   1 | elapsed:   31.8s finished\n"
     ]
    }
   ],
   "source": [
    "from sklearn.model_selection import cross_val_score\n",
    "from sklearn.feature_extraction.text import CountVectorizer\n",
    "x1 = myvector.fit_transform(X)\n",
    "scores = cross_val_score(lr1,x1,y,cv=5)\n",
    "print(\"Cross-validation scores: {}\".format(scores))\n",
    "mean_score = np.mean(scores)\n",
    "std_score = np.std(scores)\n",
    "print(\"Mean cross-validation score: {:.2f}\".format(mean_score))\n",
    "print(\"Standard deviation of cross-validation score: {:.2f}\".format(std_score))"
   ]
  },
  {
   "cell_type": "code",
   "execution_count": 100,
   "metadata": {
    "colab": {
     "base_uri": "https://localhost:8080/"
    },
    "id": "aAQTalfPARyB",
    "outputId": "5907711c-571e-4db6-a37d-433ea5ef0069"
   },
   "outputs": [
    {
     "name": "stdout",
     "output_type": "stream",
     "text": [
      "              precision    recall  f1-score   support\n",
      "\n",
      "    Negative       0.00      0.00      0.00      3769\n",
      "     Neutral       0.00      0.00      0.00      3829\n",
      "    Positive       0.83      1.00      0.91     37402\n",
      "\n",
      "    accuracy                           0.83     45000\n",
      "   macro avg       0.28      0.33      0.30     45000\n",
      "weighted avg       0.69      0.83      0.75     45000\n",
      "\n"
     ]
    }
   ],
   "source": [
    "from sklearn.naive_bayes import MultinomialNB\n",
    "model_nb = MultinomialNB().fit(X_train, y_train)\n",
    "y_pred1 = model_nb.predict(X_test)\n",
    "print(classification_report(y_test, y_pred1))"
   ]
  },
  {
   "cell_type": "code",
   "execution_count": 101,
   "metadata": {
    "colab": {
     "base_uri": "https://localhost:8080/",
     "height": 449
    },
    "id": "LKrHrIc5FE0K",
    "outputId": "f4c91c58-3300-496a-ae17-be6dac296143"
   },
   "outputs": [
    {
     "data": {
      "image/png": "[encoded data removed]",
      "text/plain": [
       "<Figure size 640x480 with 2 Axes>"
      ]
     },
     "metadata": {},
     "output_type": "display_data"
    }
   ],
   "source": [
    "from sklearn.metrics import confusion_matrix\n",
    "import seaborn as sns\n",
    "\n",
    "cm = confusion_matrix(y_test, y_pred1)\n",
    "\n",
    "sns.heatmap(cm, annot=True, cmap='Blues', fmt='g', xticklabels=['Negative', 'Neutral', 'Positive'], yticklabels=['Negative', 'Neutral', 'Positive'])\n",
    "plt.xlabel('Predicted')\n",
    "plt.ylabel('Actual')\n",
    "plt.show()"
   ]
  },
  {
   "cell_type": "code",
   "execution_count": 104,
   "metadata": {
    "id": "F9JYHYPkJeei"
   },
   "outputs": [],
   "source": [
    "X_train = [str(item) for item in X_train]\n",
    "X_test = [str(item) for item in X_test]"
   ]
  },
  {
   "cell_type": "code",
   "execution_count": 105,
   "metadata": {
    "id": "SvVAlo_tFWx4"
   },
   "outputs": [],
   "source": [
    "from sklearn.tree import DecisionTreeClassifier\n",
    "dcc = DecisionTreeClassifier(max_depth=7,random_state=42)\n",
    "tfidf = TfidfVectorizer(sublinear_tf=True,max_df=0.5,min_df=1,stop_words=stopwords.words(\"english\"),use_idf=True,smooth_idf=True)\n",
    "x_train_1 = tfidf.fit_transform(X_train)\n",
    "x_test_1 = tfidf.transform(X_test)\n",
    "ovr_1 = OneVsRestClassifier(dcc).fit(x_train_1,y_train)\n",
    "y_predicted_2 = ovr_1.predict(x_test_1)"
   ]
  },
  {
   "cell_type": "code",
   "execution_count": 106,
   "metadata": {
    "colab": {
     "base_uri": "https://localhost:8080/"
    },
    "id": "5BbUZ0zAF516",
    "outputId": "646b8672-5341-4103-fea1-7057f6c2b766"
   },
   "outputs": [
    {
     "name": "stdout",
     "output_type": "stream",
     "text": [
      "              precision    recall  f1-score   support\n",
      "\n",
      "    Negative       0.12      0.01      0.01      3769\n",
      "     Neutral       0.03      0.00      0.00      3829\n",
      "    Positive       0.83      0.99      0.90     37402\n",
      "\n",
      "    accuracy                           0.83     45000\n",
      "   macro avg       0.33      0.33      0.31     45000\n",
      "weighted avg       0.70      0.83      0.75     45000\n",
      "\n"
     ]
    }
   ],
   "source": [
    "print(classification_report(y_test, y_predicted_2))"
   ]
  },
  {
   "cell_type": "code",
   "execution_count": 107,
   "metadata": {
    "colab": {
     "base_uri": "https://localhost:8080/",
     "height": 449
    },
    "id": "OUNr5If1GkK3",
    "outputId": "e0b16dc8-5230-444e-a88a-4a29bc5e17d1"
   },
   "outputs": [
    {
     "data": {
      "image/png": "[encoded data removed]",
      "text/plain": [
       "<Figure size 640x480 with 2 Axes>"
      ]
     },
     "metadata": {},
     "output_type": "display_data"
    }
   ],
   "source": [
    "cm = confusion_matrix(y_test, y_predicted_2)\n",
    "\n",
    "sns.heatmap(cm, annot=True, cmap='Blues', fmt='g', xticklabels=['Negative', 'Neutral', 'Positive'], yticklabels=['Negative', 'Neutral', 'Positive'])\n",
    "plt.xlabel('Predicted')\n",
    "plt.ylabel('Actual')\n",
    "plt.show()"
   ]
  },
  {
   "cell_type": "code",
   "execution_count": null,
   "metadata": {
    "id": "xksSmGLpG7La"
   },
   "outputs": [],
   "source": []
  }
 ],
 "metadata": {
  "colab": {
   "provenance": []
  },
  "kernelspec": {
   "display_name": "Python 3 (ipykernel)",
   "language": "python",
   "name": "python3"
  },
  "language_info": {
   "codemirror_mode": {
    "name": "ipython",
    "version": 3
   },
   "file_extension": ".py",
   "mimetype": "text/x-python",
   "name": "python",
   "nbconvert_exporter": "python",
   "pygments_lexer": "ipython3",
   "version": "3.9.12"
  },
  "widgets": {
   "application/vnd.jupyter.widget-state+json": {
    "22b5c0beffad44a7aa908e7b4cf6c564": {
     "model_module": "@jupyter-widgets/base",
     "model_module_version": "1.2.0",
     "model_name": "LayoutModel",
     "state": {
      "_model_module": "@jupyter-widgets/base",
      "_model_module_version": "1.2.0",
      "_model_name": "LayoutModel",
      "_view_count": null,
      "_view_module": "@jupyter-widgets/base",
      "_view_module_version": "1.2.0",
      "_view_name": "LayoutView",
      "align_content": null,
      "align_items": null,
      "align_self": null,
      "border": null,
      "bottom": null,
      "display": null,
      "flex": null,
      "flex_flow": null,
      "grid_area": null,
      "grid_auto_columns": null,
      "grid_auto_flow": null,
      "grid_auto_rows": null,
      "grid_column": null,
      "grid_gap": null,
      "grid_row": null,
      "grid_template_areas": null,
      "grid_template_columns": null,
      "grid_template_rows": null,
      "height": null,
      "justify_content": null,
      "justify_items": null,
      "left": null,
      "margin": null,
      "max_height": null,
      "max_width": null,
      "min_height": null,
      "min_width": null,
      "object_fit": null,
      "object_position": null,
      "order": null,
      "overflow": null,
      "overflow_x": null,
      "overflow_y": null,
      "padding": null,
      "right": null,
      "top": null,
      "visibility": null,
      "width": null
     }
    },
    "26d9d37bdd6a449bba8fe70e4e8fc119": {
     "model_module": "@jupyter-widgets/controls",
     "model_module_version": "1.5.0",
     "model_name": "DescriptionStyleModel",
     "state": {
      "_model_module": "@jupyter-widgets/controls",
      "_model_module_version": "1.5.0",
      "_model_name": "DescriptionStyleModel",
      "_view_count": null,
      "_view_module": "@jupyter-widgets/base",
      "_view_module_version": "1.2.0",
      "_view_name": "StyleView",
      "description_width": ""
     }
    },
    "36321871f83b41c0b48178c3e86288d1": {
     "model_module": "@jupyter-widgets/base",
     "model_module_version": "1.2.0",
     "model_name": "LayoutModel",
     "state": {
      "_model_module": "@jupyter-widgets/base",
      "_model_module_version": "1.2.0",
      "_model_name": "LayoutModel",
      "_view_count": null,
      "_view_module": "@jupyter-widgets/base",
      "_view_module_version": "1.2.0",
      "_view_name": "LayoutView",
      "align_content": null,
      "align_items": null,
      "align_self": null,
      "border": null,
      "bottom": null,
      "display": null,
      "flex": null,
      "flex_flow": null,
      "grid_area": null,
      "grid_auto_columns": null,
      "grid_auto_flow": null,
      "grid_auto_rows": null,
      "grid_column": null,
      "grid_gap": null,
      "grid_row": null,
      "grid_template_areas": null,
      "grid_template_columns": null,
      "grid_template_rows": null,
      "height": null,
      "justify_content": null,
      "justify_items": null,
      "left": null,
      "margin": null,
      "max_height": null,
      "max_width": null,
      "min_height": null,
      "min_width": null,
      "object_fit": null,
      "object_position": null,
      "order": null,
      "overflow": null,
      "overflow_x": null,
      "overflow_y": null,
      "padding": null,
      "right": null,
      "top": null,
      "visibility": null,
      "width": null
     }
    },
    "4be0886adf1347c5932baafe6535ba36": {
     "model_module": "@jupyter-widgets/controls",
     "model_module_version": "1.5.0",
     "model_name": "HBoxModel",
     "state": {
      "_dom_classes": [],
      "_model_module": "@jupyter-widgets/controls",
      "_model_module_version": "1.5.0",
      "_model_name": "HBoxModel",
      "_view_count": null,
      "_view_module": "@jupyter-widgets/controls",
      "_view_module_version": "1.5.0",
      "_view_name": "HBoxView",
      "box_style": "",
      "children": [
       "IPY_MODEL_b4320b00029b4268a27ace86f3a28f51",
       "IPY_MODEL_90f136ce5e584bc7b9badbac1640a2d6",
       "IPY_MODEL_991da89ca1c045b784207b6da0d72eea"
      ],
      "layout": "IPY_MODEL_36321871f83b41c0b48178c3e86288d1"
     }
    },
    "66ea637049a54183a9153334c6911d0c": {
     "model_module": "@jupyter-widgets/controls",
     "model_module_version": "1.5.0",
     "model_name": "ProgressStyleModel",
     "state": {
      "_model_module": "@jupyter-widgets/controls",
      "_model_module_version": "1.5.0",
      "_model_name": "ProgressStyleModel",
      "_view_count": null,
      "_view_module": "@jupyter-widgets/base",
      "_view_module_version": "1.2.0",
      "_view_name": "StyleView",
      "bar_color": null,
      "description_width": ""
     }
    },
    "8c5dccb444214da9b691dff7403ddc79": {
     "model_module": "@jupyter-widgets/base",
     "model_module_version": "1.2.0",
     "model_name": "LayoutModel",
     "state": {
      "_model_module": "@jupyter-widgets/base",
      "_model_module_version": "1.2.0",
      "_model_name": "LayoutModel",
      "_view_count": null,
      "_view_module": "@jupyter-widgets/base",
      "_view_module_version": "1.2.0",
      "_view_name": "LayoutView",
      "align_content": null,
      "align_items": null,
      "align_self": null,
      "border": null,
      "bottom": null,
      "display": null,
      "flex": null,
      "flex_flow": null,
      "grid_area": null,
      "grid_auto_columns": null,
      "grid_auto_flow": null,
      "grid_auto_rows": null,
      "grid_column": null,
      "grid_gap": null,
      "grid_row": null,
      "grid_template_areas": null,
      "grid_template_columns": null,
      "grid_template_rows": null,
      "height": null,
      "justify_content": null,
      "justify_items": null,
      "left": null,
      "margin": null,
      "max_height": null,
      "max_width": null,
      "min_height": null,
      "min_width": null,
      "object_fit": null,
      "object_position": null,
      "order": null,
      "overflow": null,
      "overflow_x": null,
      "overflow_y": null,
      "padding": null,
      "right": null,
      "top": null,
      "visibility": null,
      "width": null
     }
    },
    "90f136ce5e584bc7b9badbac1640a2d6": {
     "model_module": "@jupyter-widgets/controls",
     "model_module_version": "1.5.0",
     "model_name": "FloatProgressModel",
     "state": {
      "_dom_classes": [],
      "_model_module": "@jupyter-widgets/controls",
      "_model_module_version": "1.5.0",
      "_model_name": "FloatProgressModel",
      "_view_count": null,
      "_view_module": "@jupyter-widgets/controls",
      "_view_module_version": "1.5.0",
      "_view_name": "ProgressView",
      "bar_style": "danger",
      "description": "",
      "description_tooltip": null,
      "layout": "IPY_MODEL_ca1d16a5c6344589aace80f5c18212ee",
      "max": 500000,
      "min": 0,
      "orientation": "horizontal",
      "style": "IPY_MODEL_66ea637049a54183a9153334c6911d0c",
      "value": 498815
     }
    },
    "991da89ca1c045b784207b6da0d72eea": {
     "model_module": "@jupyter-widgets/controls",
     "model_module_version": "1.5.0",
     "model_name": "HTMLModel",
     "state": {
      "_dom_classes": [],
      "_model_module": "@jupyter-widgets/controls",
      "_model_module_version": "1.5.0",
      "_model_name": "HTMLModel",
      "_view_count": null,
      "_view_module": "@jupyter-widgets/controls",
      "_view_module_version": "1.5.0",
      "_view_name": "HTMLView",
      "description": "",
      "description_tooltip": null,
      "layout": "IPY_MODEL_22b5c0beffad44a7aa908e7b4cf6c564",
      "placeholder": "​",
      "style": "IPY_MODEL_c3a6ada8eb224c1294332d08ac5d4739",
      "value": " 498815/500000 [1:21:39&lt;00:09, 120.27it/s]"
     }
    },
    "b4320b00029b4268a27ace86f3a28f51": {
     "model_module": "@jupyter-widgets/controls",
     "model_module_version": "1.5.0",
     "model_name": "HTMLModel",
     "state": {
      "_dom_classes": [],
      "_model_module": "@jupyter-widgets/controls",
      "_model_module_version": "1.5.0",
      "_model_name": "HTMLModel",
      "_view_count": null,
      "_view_module": "@jupyter-widgets/controls",
      "_view_module_version": "1.5.0",
      "_view_name": "HTMLView",
      "description": "",
      "description_tooltip": null,
      "layout": "IPY_MODEL_8c5dccb444214da9b691dff7403ddc79",
      "placeholder": "​",
      "style": "IPY_MODEL_26d9d37bdd6a449bba8fe70e4e8fc119",
      "value": "100%"
     }
    },
    "c3a6ada8eb224c1294332d08ac5d4739": {
     "model_module": "@jupyter-widgets/controls",
     "model_module_version": "1.5.0",
     "model_name": "DescriptionStyleModel",
     "state": {
      "_model_module": "@jupyter-widgets/controls",
      "_model_module_version": "1.5.0",
      "_model_name": "DescriptionStyleModel",
      "_view_count": null,
      "_view_module": "@jupyter-widgets/base",
      "_view_module_version": "1.2.0",
      "_view_name": "StyleView",
      "description_width": ""
     }
    },
    "ca1d16a5c6344589aace80f5c18212ee": {
     "model_module": "@jupyter-widgets/base",
     "model_module_version": "1.2.0",
     "model_name": "LayoutModel",
     "state": {
      "_model_module": "@jupyter-widgets/base",
      "_model_module_version": "1.2.0",
      "_model_name": "LayoutModel",
      "_view_count": null,
      "_view_module": "@jupyter-widgets/base",
      "_view_module_version": "1.2.0",
      "_view_name": "LayoutView",
      "align_content": null,
      "align_items": null,
      "align_self": null,
      "border": null,
      "bottom": null,
      "display": null,
      "flex": null,
      "flex_flow": null,
      "grid_area": null,
      "grid_auto_columns": null,
      "grid_auto_flow": null,
      "grid_auto_rows": null,
      "grid_column": null,
      "grid_gap": null,
      "grid_row": null,
      "grid_template_areas": null,
      "grid_template_columns": null,
      "grid_template_rows": null,
      "height": null,
      "justify_content": null,
      "justify_items": null,
      "left": null,
      "margin": null,
      "max_height": null,
      "max_width": null,
      "min_height": null,
      "min_width": null,
      "object_fit": null,
      "object_position": null,
      "order": null,
      "overflow": null,
      "overflow_x": null,
      "overflow_y": null,
      "padding": null,
      "right": null,
      "top": null,
      "visibility": null,
      "width": null
     }
    }
   }
  }
 },
 "nbformat": 4,
 "nbformat_minor": 1
}
